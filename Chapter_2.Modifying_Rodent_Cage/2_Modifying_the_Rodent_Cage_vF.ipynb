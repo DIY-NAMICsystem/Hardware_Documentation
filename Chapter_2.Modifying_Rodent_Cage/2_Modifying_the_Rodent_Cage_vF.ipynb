{
 "cells": [
  {
   "cell_type": "markdown",
   "metadata": {},
   "source": [
    "# Modifying the Rodent Cage\n",
    "\n",
    "#### <mark>What you will learn</mark>: \n",
    "\n",
    "Modifying the rodent home cage with Dremel and U-channels for use in DNAMIC boxes \n",
    "\n",
    "____"
   ]
  },
  {
   "cell_type": "markdown",
   "metadata": {},
   "source": [
    "### Introduction\n",
    "\n",
    "As previously described in the [introduction](), LINKE LINKE LINKE!!! the main objective of the project was to enable adolescent studies in mice. Our solution was to utilize their home cages as \"operant boxes\" so that we could capture 100% of their behavior during the adolescent stage. In this chapter, we will explain how to modify the rodent cage to be used for DNAMIC boxes. \n",
    "\n",
    "***Note: This section is based on the cages provided by our animal facility. Cage specifications will differ by labs, so keep this in mind while reading!***\n",
    "\n",
    "***High level Overview:*** Using a Dremel to expose a cross-section of the cage, we attached the U-channels on the bottom and the sides of the cage, allowing us to slide in the plexiglass fitted with the Arduino and customized nose ports."
   ]
  },
  {
   "cell_type": "markdown",
   "metadata": {},
   "source": [
    "### About the Rodent Cages\n",
    "\n",
    "Our animal facility currently has four types of rodent cages. The dimensions are identical by eye (I didn’t have access to the exact blueprint), but they have salient differences. One difference among the cages is that they either have or don't have a metal flap on the back (**Figure 1**). Another difference is the shape of the curvature at the base of the cage. One is rounder with the angles more gradual (top cage in **Figure 2**), and the other one is flatter at the base, with sharper angles (bottom cage in **Figure 2**). \n",
    "\n",
    "\n",
    "\n",
    "\n"
   ]
  },
  {
   "cell_type": "markdown",
   "metadata": {},
   "source": [
    "<div style=\"float: left; margin-right: 50px;\">\n",
    "    <img title=\"figure_1\" style=\"float: left; margin-left: 5px; border:solid 2px\" src=\"imgs/Figure_1.png\" align=center width=300/>\n",
    "</div>\n",
    "\n",
    "$\\Longrightarrow$\n",
    "**Figure 1:** *Difference between the ‘flap’ cages. Notice the metal flap (red circle) in the left cage and the absence of the metal flap in the right cage*\n",
    "\n",
    "___"
   ]
  },
  {
   "cell_type": "markdown",
   "metadata": {},
   "source": [
    "<div style=\"float: left; margin-right: 50px;\">\n",
    "    <img title=\"figure_2\" style=\"float: left; margin-left: 5px; border:solid 2px\" src=\"imgs/Figure_2.png\" align=center width=300/>\n",
    "</div>\n",
    "\n",
    "$\\Longrightarrow$\n",
    "**Figure 2:** *Difference between the ‘slant’ cages. Notice the difference in curvature of the cages (red curve). The **old** cages have gradual angles whereas the **new** cages have sharper angles.*\n",
    "\n",
    "___"
   ]
  },
  {
   "cell_type": "markdown",
   "metadata": {},
   "source": [
    "For our purposes however, the differences are insignificant. We just need to gain access to one cross-section of the cage so that we can attach our U-channels. The U-channel positions are what matters in the end to maximize the floor area of the cage (for animal welfare reasons per [IACUC Guide](https://grants.nih.gov/grants/olaw/guide-for-the-care-and-use-of-laboratory-animals.pdf)). The floor area of the cage will depend on the position of the bottom U-channel. The bottom U-channel position will subsequently determine the side U-channel positions (since the side and bottom must be aligned for the plexiglass to slide in), which will determine how deep or shallow the plexiglass will be positioned in the cage. \n",
    "\n",
    "> Initially, you have to design the plexiglass that will fit into the cage attached with U-channels. For the purposes of this chapter however, I will assume that you have already made a plexiglass that fits in the cage. See this [link]() LINKE LINKE!!!  on how to prototype a sample ***\"plexiglass\"*** using cardboard.\n",
    "\n",
    "\n",
    "Based on the provided [plexiglass design]() (LINK LINKE LINK to files within github repo), the best **location** for the bottom U-channel is where the two studded circles gently protrude out **(Figure 3)**. Connect those two circles with a Sharpie marker so that it is easy to align and position the bottom U-channel when gluing it on later. \n",
    "\n",
    "> This **location** was chosen due to the design of the cage hopper and the plexiglass. Positioning the U-channel at this location will minimize the gaps between the metal hopper and the plexiglass, preventing mice from escaping from their cages **(Figure 4 and Figure 5).**\n",
    "\n",
    "For the purposes of exposing the cross-section, draw a line at the 5cm mark (see yellow arrow) at an angle **(Figure 2)** on both sides of the cage. These lines will always be posterior relative to the bottom U-channel position and thus will serve as good guidelines for cutting the cage later. "
   ]
  },
  {
   "cell_type": "markdown",
   "metadata": {},
   "source": [
    "<div style=\"float: left; margin-right: 50px;\">\n",
    "    <img title=\"figure_3\" style=\"float: left; margin-left: 5px; border:solid 2px\" src=\"imgs/Figure_3.png\" align=center width=330/>\n",
    "</div>\n",
    "\n",
    "$\\Longrightarrow$\n",
    "**Figure 3:** *The two protruding circles (filled with black circles within red bounded circles) are connected with a black Sharpie marker. This will later serve as the bottom U-channel position.*\n",
    "\n",
    "___"
   ]
  },
  {
   "cell_type": "markdown",
   "metadata": {},
   "source": [
    "<div style=\"float: left; margin-right: 50px;\">\n",
    "    <img title=\"figure_4\" style=\"float: left; margin-left: 5px; border:solid 2px\" src=\"imgs/Figure_4.png\" align=center width=330/>\n",
    "</div>\n",
    "\n",
    "$\\Longrightarrow$\n",
    "**Figure 4:** *Faulty positioning of the U-channel will result in gaps between the plexiglass and the metal hopper (Red Circle)*\n",
    "\n",
    "___"
   ]
  },
  {
   "cell_type": "markdown",
   "metadata": {},
   "source": [
    "<div style=\"float: left; margin-right: 50px;\">\n",
    "    <img title=\"figure_5\" style=\"float: left; margin-left: 5px\" src=\"imgs/Figure_5_1.png\" align=center width=330/>\n",
    "</div>\n",
    "\n",
    "$\\Longrightarrow$\n",
    "**Figure 5:** *Yellow dotted lines indicate the correct location for positioning the bottom U-channel. Red dotted lines indicate a faulty position that will create a gap between the metal hopper and the plexiglass*\n",
    "\n",
    "___"
   ]
  },
  {
   "cell_type": "markdown",
   "metadata": {},
   "source": [
    "### Cutting the Cage \n",
    "\n",
    "When cutting the cage, make sure to cut the sides first. Remember that the sharpie mark at the bottom is where the U-channels are going to align, **NOT** where it will be cut. Cutting the sides first will prevent you from making that mistake. "
   ]
  },
  {
   "cell_type": "markdown",
   "metadata": {},
   "source": [
    "<div style=\"float: left; margin-right: 50px;\">\n",
    "    <img title=\"step_1\" style=\"float: left; margin-left: 5px; border:solid 2px\" src=\"imgs/step_1.png\" align=center width=300/>\n",
    "</div>\n",
    "\n",
    "$\\Longrightarrow$\n",
    "**Step 1:** *Cut the cage according to the numbers shown - Sides (Red) first and then the bottom (Yellow) of the cage*\n",
    "\n",
    "___"
   ]
  },
  {
   "cell_type": "markdown",
   "metadata": {},
   "source": [
    "<div style=\"float: left; margin-right: 50px;\">\n",
    "    <img title=\"step_2\" style=\"float: left; margin-left: 5px; border:solid 2px\" src=\"imgs/step_2.png\" align=center width=300/>\n",
    "</div>\n",
    "\n",
    "$\\Longrightarrow$\n",
    "**Step 2:** *Cutting along the sharpie mark along the two sides*\n",
    "\n",
    "___"
   ]
  },
  {
   "cell_type": "markdown",
   "metadata": {},
   "source": [
    "<div style=\"float: left; margin-right: 50px;\">\n",
    "    <img title=\"step_3\" style=\"float: left; margin-left: 5px; border:solid 2px\" src=\"imgs/step_3.png\" align=center width=300/>\n",
    "</div>\n",
    "\n",
    "$\\Longrightarrow$\n",
    "**Step 3:** *All three sides (two sides + one bottom) have been cut and ready to be separated from the main cage body*\n",
    "\n",
    "___"
   ]
  },
  {
   "cell_type": "markdown",
   "metadata": {},
   "source": [
    "The Dremel rotary tool will produce a lot of fine dust so work in a well-ventilated area. I worked inside the fume hood. After the initial cut, wash off the fine dust by running the cage under water. After thoroughly drying it, you may also want to use the belt grinder to sand down the sides for a smoother, cleaner finish. "
   ]
  },
  {
   "cell_type": "markdown",
   "metadata": {},
   "source": [
    "<div style=\"float: left; margin-right: 50px;\">\n",
    "    <img title=\"step_4\" style=\"float: left; margin-left: 5px; border:solid 2px\" src=\"imgs/step_4.png\" align=center width=300/>\n",
    "</div>\n",
    "\n",
    "$\\Longrightarrow$\n",
    "**Step 4:** *Cross Section of the cage right after the Dremel cut. Notice the rugged, sharp edges.*\n",
    "\n",
    "___"
   ]
  },
  {
   "cell_type": "markdown",
   "metadata": {},
   "source": [
    "<div style=\"float: left; margin-right: 50px;\">\n",
    "    <img title=\"step_5\" style=\"float: left; margin-left: 5px; border:solid 2px\" src=\"imgs/step_5.png\" align=center width=300/>\n",
    "</div>\n",
    "\n",
    "$\\Longrightarrow$\n",
    "**Step 5:** *Cross section of the cage after sanding it down with the belt grinder.*\n",
    "\n",
    "___"
   ]
  },
  {
   "cell_type": "markdown",
   "metadata": {},
   "source": [
    "### Attaching the U-Channels"
   ]
  },
  {
   "cell_type": "markdown",
   "metadata": {},
   "source": [
    "<div style=\"float: left; margin-right: 50px;\">\n",
    "    <img title=\"U-1_materials\" style=\"float: left; margin-left: 5px; border:solid 2px\" src=\"imgs/U-1_materials.png\" align=center width=300/>\n",
    "</div>\n",
    "\n",
    "$\\Longrightarrow$\n",
    "**Materials Needed:** *Loctite Glue (401) / U-channels / Rodent Cage*\n",
    "\n",
    "___"
   ]
  },
  {
   "cell_type": "markdown",
   "metadata": {},
   "source": [
    "<div style=\"float: left; margin-right: 50px;\">\n",
    "    <img title=\"U-2_end_goal\" style=\"float: left; margin-left: 5px; border:solid 2px\" src=\"imgs/U-2_end_goal.png\" align=center width=300/>\n",
    "</div>\n",
    "\n",
    "$\\Longrightarrow$\n",
    "**End Goal:** *Picture of the completed modified cage after attaching the U-channels*\n",
    "\n",
    "___"
   ]
  },
  {
   "cell_type": "markdown",
   "metadata": {},
   "source": [
    "Now it’s time to attach the U-Channels. \n",
    "\n",
    "For our cages, you will need to cut three pieces of U-channels. Two U-channels (11.3cm long) will go on the sides and one U-channel (10.3cm long) will go on the bottom. \n",
    "\n",
    "The U-channels will serve as guides for our plexiglass when we slide it in. Therefore, we want all three of them to align together and flat with the surface of the cage. It is easier to align all three of them together if we attach the bottom one first. That’s what we will do first. \n",
    "\n",
    "After attaching the bottom U-channel, let’s attach the side U-channels. Align the side U-channels by using the bottom U-channel as a reference point."
   ]
  },
  {
   "cell_type": "markdown",
   "metadata": {},
   "source": [
    "<div style=\"float: left; margin-right: 50px;\">\n",
    "    <img title=\"U-3\" style=\"float: left; margin-left: 5px; border:solid 2px\" src=\"imgs/U-3.png\" align=center width=300/>\n",
    "</div>\n",
    "\n",
    "$\\Longrightarrow$\n",
    "**Step 1:** *Attaching the bottom U-channel first. Apply Loctite glue along the back of the U-channel and align it along the black sharpie mark and hold it down for a few seconds to get a good attachment. Let it cure overnight.*\n",
    "\n",
    "___"
   ]
  },
  {
   "cell_type": "markdown",
   "metadata": {},
   "source": [
    "<div style=\"float: left; margin-right: 50px;\">\n",
    "    <img title=\"U-4\" style=\"float: left; margin-left: 5px; border:solid 2px\" src=\"imgs/U-4.png\" align=center width=300/>\n",
    "</div>\n",
    "\n",
    "$\\Longrightarrow$\n",
    "**Step 2:** *Attaching the side U-channels. Align them using the bottom U-channel as a reference point. Use the same techniques as in* ***Step 1***\n",
    "\n",
    "___"
   ]
  },
  {
   "cell_type": "markdown",
   "metadata": {},
   "source": [
    "#### Using Loctite Glue \n",
    "\n",
    "> When using Loctite glue, you should always clean both the surface you’re applying glue to and the surface where glue will interact with. In our case, those surfaces are the U-channels and the rodent cage. Wipe it down with water or ethanol so that any particles or dust will not interfere with the adhesion. After cleaning, apply Loctite glue generously and attach the U-channels to the rodent cage. 401 Loctite is very watery so you will have some time to wiggle the U-channel around if you didn’t get the placement correct the first time. To make sure there is a good adhesion, let the Loctite cure for a few hours, overnight if you have time. "
   ]
  },
  {
   "cell_type": "markdown",
   "metadata": {},
   "source": [
    "Once the Loctite glue has cured and the U-channels are securely fastened, test out the alignment by sliding in your Plexiglass along the U-channel railings like in **Step 3**. Make sure to try the cage top as well to check for gaps! "
   ]
  },
  {
   "cell_type": "markdown",
   "metadata": {},
   "source": [
    "<div style=\"float: left; margin-right: 50px;\">\n",
    "    <img title=\"U-5\" style=\"float: left; margin-left: 5px; border:solid 2px\" src=\"imgs/U-5.png\" align=center width=300/>\n",
    "</div>\n",
    "\n",
    "$\\Longrightarrow$\n",
    "**Step 3:** *Sliding the plexiglass along the U-channel railings for testing purposes*\n",
    "\n",
    "___"
   ]
  },
  {
   "cell_type": "markdown",
   "metadata": {},
   "source": [
    "###### END OF CHAPTER"
   ]
  },
  {
   "cell_type": "markdown",
   "metadata": {},
   "source": [
    "[Previous Chapter - 1.xxxxx]()   \n",
    "\n",
    "\n",
    "\n",
    "[Next Chapter - 3.xxxxx ]()"
   ]
  },
  {
   "cell_type": "code",
   "execution_count": null,
   "metadata": {},
   "outputs": [],
   "source": []
  }
 ],
 "metadata": {
  "kernelspec": {
   "display_name": "Python 3",
   "language": "python",
   "name": "python3"
  },
  "language_info": {
   "codemirror_mode": {
    "name": "ipython",
    "version": 3
   },
   "file_extension": ".py",
   "mimetype": "text/x-python",
   "name": "python",
   "nbconvert_exporter": "python",
   "pygments_lexer": "ipython3",
   "version": "3.6.8"
  }
 },
 "nbformat": 4,
 "nbformat_minor": 2
}
