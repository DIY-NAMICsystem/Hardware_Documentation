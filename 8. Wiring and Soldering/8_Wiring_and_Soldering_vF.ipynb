{
 "cells": [
  {
   "attachments": {},
   "cell_type": "markdown",
   "metadata": {},
   "source": [
    "# Wiring and Soldering\n",
    "\n",
    "#### <mark>What you will learn</mark>: \n",
    "\n",
    "How to wire the components (IR / solenoids / LEDs) to the jumper wires\n",
    "____"
   ]
  },
  {
   "attachments": {},
   "cell_type": "markdown",
   "metadata": {},
   "source": [
    "### Introduction\n",
    "\n",
    "In any type of electronics project, you will start off with a breadboard and jumper wires to wire things up as a prototype. As things become more complicated and you know that your prototype works, you will want to make your project permanent by soldering / crimping components together.  \n"
   ]
  },
  {
   "attachments": {},
   "cell_type": "markdown",
   "metadata": {},
   "source": [
    "<div style=\"float: left; margin-right: 50px;\">\n",
    "    <img title=\"figure_1\" style=\"float: left; margin-left: 5px; border:solid 2px\" src=\"imgs/Figure_1.png\" align=center width=300/>\n",
    "</div>\n",
    "\n",
    "$\\Longrightarrow$\n",
    "**Figure 1:** *Simple Half-Breadboard*\n",
    "\n",
    "___"
   ]
  },
  {
   "attachments": {},
   "cell_type": "markdown",
   "metadata": {},
   "source": [
    "<div style=\"float: left; margin-right: 50px;\">\n",
    "    <img title=\"figure_2\" style=\"float: left; margin-left: 5px; border:solid 2px\" src=\"imgs/Figure_2.png\" align=center width=300/>\n",
    "</div>\n",
    "\n",
    "$\\Longrightarrow$\n",
    "**Figure 2:** *Three types of jumper wires: Male/Male, Male/Female, Female/Female*\n",
    "\n",
    "___"
   ]
  },
  {
   "attachments": {},
   "cell_type": "markdown",
   "metadata": {},
   "source": [
    "### Soldering or Crimping\n",
    "\n",
    "The difference between soldering and crimping is that crimping is an electrical connection done with physical force while soldering involves making a connection by heating up the wires and connecting them with solder alloy. Personally, I prefer crimping when making electrical connections because they offer more flexibility and reliability compared to soldering. However, soldering can be great for making quick electrical connections that you might later “undo” since you can always de-solder them by applying additional heat. Soldering and crimping each offers its advantages and disadvantages but given the components we work with in the lab, I’ve decided to take advantage of both crimping and soldering."
   ]
  },
  {
   "attachments": {},
   "cell_type": "markdown",
   "metadata": {},
   "source": [
    "### Hacking the Dupont connectors\n",
    "\n",
    "When connecting components to the breadboard or generally connecting two points together, we slide in the male wire to the female jumper wire. We can do this thanks to the Dupont connectors at the end. Dupont connectors are standardized pins that are 0.1” (2.54mm) in width. The widths are standardized so that they fit on Arduinos and other breakout boards. In fact, the spacings between each pin on Arduinos is also 0.1” (2.54mm). "
   ]
  },
  {
   "attachments": {},
   "cell_type": "markdown",
   "metadata": {},
   "source": [
    "<div style=\"float: left; margin-right: 50px;\">\n",
    "    <img title=\"figure_3\" style=\"float: left; margin-left: 5px; border:solid 2px\" src=\"imgs/Figure_3.png\" align=center width=300/>\n",
    "</div>\n",
    "\n",
    "$\\Longrightarrow$\n",
    "**Figure 3:** *Female Dupont connectors (red) and Dupont connectors with housing (blue)*\n",
    "\n",
    "___"
   ]
  },
  {
   "attachments": {},
   "cell_type": "markdown",
   "metadata": {},
   "source": [
    "<div style=\"float: left; margin-right: 50px;\">\n",
    "    <img title=\"figure_3\" style=\"float: left; margin-left: 5px; border:solid 2px\" src=\"imgs/Figure_4.png\" align=center width=300/>\n",
    "</div>\n",
    "\n",
    "$\\Longrightarrow$\n",
    "**Figure 4:** *Male Dupont connector can fit into Female Dupont connector.*\n",
    "\n",
    "___"
   ]
  },
  {
   "attachments": {},
   "cell_type": "markdown",
   "metadata": {},
   "source": [
    "You can see an example of a female Dupont connector in **Figure 3**. This picture was taken after removing the black encasing on the red wire. The yellow arrows show you where the crimp was made to the red wire. Actually, you can make your own Dupont connectors at home with a crimping tool, male/female pins, and encasings. ([See Youtube Video](https://www.youtube.com/watch?v=N3zK9fzIPBo)) However, note that the in-house crimp connections won’t be as good as factory-made connections. "
   ]
  },
  {
   "attachments": {},
   "cell_type": "markdown",
   "metadata": {},
   "source": [
    "Now for prototyping purposes, it is sufficient to just use jumper wires to connect components to the Arduino or to the breadboard. I would do this by sliding in the component lead into one of the female-type Dupont connectors. This wouldn’t work so well when you want to make the wiring permanent. The leads will slide right off with a gentle tug. To prevent this, you would slide in the component lead right into the bare-bone female Dupont pins that have their encasing removed and solder the two parts together **(Figure 5).** In an ideal world, you would directly crimp the components to the wires but since that method proved to be too time consuming, I have opted for this current method."
   ]
  },
  {
   "attachments": {},
   "cell_type": "markdown",
   "metadata": {},
   "source": [
    "<div style=\"float: left; margin-right: 50px;\">\n",
    "    <img title=\"figure_3\" style=\"float: left; margin-left: 5px; border:solid 2px\" src=\"imgs/Figure_5.png\" align=center width=300/>\n",
    "</div>\n",
    "\n",
    "$\\Longrightarrow$\n",
    "**Figure 5:** *Sliding in the male pin to the female Dupont connector with the encasing removed*\n",
    "\n",
    "___"
   ]
  },
  {
   "attachments": {},
   "cell_type": "markdown",
   "metadata": {},
   "source": [
    "I will demonstrate this method using the LED wirings as an example. Note that all the jumper wires that were used were 30cm long and were of the female – to – male type."
   ]
  },
  {
   "attachments": {},
   "cell_type": "markdown",
   "metadata": {},
   "source": [
    "<div style=\"float: center\">\n",
    "    <img title=\"figure_6\" style=\"float: center; border:solid 2px\" src=\"imgs/Figure_6.png\" align=center width=500/>\n",
    "</div>\n",
    "\n",
    "$\\Longrightarrow$\n",
    "**Figure 6:** *LED wiring stages*\n",
    "\n",
    "___"
   ]
  },
  {
   "attachments": {},
   "cell_type": "markdown",
   "metadata": {},
   "source": [
    "The above picture **(Figure 6)** depicts the wiring schemes in different stages. In stage 1, you have the component leads. In stage 2, you can see the jumper wires with their black encasings removed. (yellow arrows) Also in stage 2, you see that the male pins have slid into the female Dupont pins. To make them permanent, I have made a solder connection where the male pin and the female Dupont pin overlap. And finally in step 3, I have shrunken down heat shrink tubes with a lighter. Note that you must slide in the appropriately sized heat shrink tubes before you make the solder connection between the wires and the component. \n",
    "\n",
    "The purpose of the heat shrink tube is to provide the solder joint with flexibility and protection. Soldered connections can be prone to fraying, especially at the juncture where the wire was crimped (red circle). This is because excess solder can potentially seep through and expand the space between the wire and the crimp. Therefore it is imperative that we use heat shrink tubes to provide support to the solder junction. \n"
   ]
  },
  {
   "attachments": {},
   "cell_type": "markdown",
   "metadata": {},
   "source": [
    "<div style=\"float: left; margin-right: 50px;\">\n",
    "    <img title=\"figure_7\" style=\"float: left; margin-left: 5px; border:solid 2px\" src=\"imgs/Figure_7.png\" align=center width=300/>\n",
    "</div>\n",
    "\n",
    "$\\Longrightarrow$\n",
    "**Figure 7:** *Fraying of the wire at the crimp junction (red circle). Excess solder probably weakened the crimp connection.**\n",
    "\n",
    "___"
   ]
  },
  {
   "attachments": {},
   "cell_type": "markdown",
   "metadata": {},
   "source": [
    "### Example: Photo interrupters\n",
    "\n",
    "We will use the same method as above to solder the IR photo interrupters to the jumper wires. Remember to use female – to – male jumper wires that are 30cm long. Note however that the length of the wires will depend on your individual project. \n"
   ]
  },
  {
   "attachments": {},
   "cell_type": "markdown",
   "metadata": {},
   "source": [
    "<div style=\"float: left; margin-right: 50px;\">\n",
    "    <img title=\"figure_8\" style=\"float: left; margin-left: 5px; border:solid 2px\" src=\"imgs/Figure_8.png\" align=center width=300/>\n",
    "</div>\n",
    "\n",
    "$\\Longrightarrow$\n",
    "**Figure 8:** *Materials Needed for IR - wire soldering*\n",
    "\n",
    "___"
   ]
  },
  {
   "attachments": {},
   "cell_type": "markdown",
   "metadata": {},
   "source": [
    "<div style=\"float: left; margin-right: 50px;\">\n",
    "    <img title=\"figure_9\" style=\"float: left; margin-left: 5px; border:solid 2px\" src=\"imgs/Figure_9.png\" align=center width=300/>\n",
    "</div>\n",
    "\n",
    "$\\Longrightarrow$\n",
    "**Figure 9:** *Wiring the IRs. Notice the heat shrink tubes (red arrow)*\n",
    "\n",
    "___"
   ]
  },
  {
   "attachments": {},
   "cell_type": "markdown",
   "metadata": {},
   "source": [
    "<div style=\"float: left; margin-right: 50px;\">\n",
    "    <img title=\"figure_10\" style=\"float: left; margin-left: 5px; border:solid 2px\" src=\"imgs/Figure_10.png\" align=center width=300/>\n",
    "</div>\n",
    "\n",
    "$\\Longrightarrow$\n",
    "**Figure 10:** *Wiring the phototransistors. Notice the heat shrink tubes (red arrow)*\n",
    "\n",
    "___"
   ]
  },
  {
   "attachments": {},
   "cell_type": "markdown",
   "metadata": {},
   "source": [
    "<div style=\"float: center\">\n",
    "    <img title=\"figure_11\" style=\"float: center; border:solid 2px\" src=\"imgs/Figure_11.png\" align=center width=500/>\n",
    "</div>\n",
    "\n",
    "$\\Longrightarrow$\n",
    "**Figure 11:** *Completed wiring. Before and after applying heat to shrink tubes.*\n",
    "\n",
    "___"
   ]
  },
  {
   "cell_type": "markdown",
   "metadata": {},
   "source": [
    "###### END OF CHAPTER"
   ]
  },
  {
   "cell_type": "markdown",
   "metadata": {},
   "source": [
    "[Previous Chapter - 8.xxxxx]()   \n",
    "\n",
    "\n",
    "\n",
    "[Next Chapter - 10.xxxxx ]()"
   ]
  }
 ],
 "metadata": {
  "kernelspec": {
   "display_name": "Python 3",
   "language": "python",
   "name": "python3"
  },
  "language_info": {
   "codemirror_mode": {
    "name": "ipython",
    "version": 3
   },
   "file_extension": ".py",
   "mimetype": "text/x-python",
   "name": "python",
   "nbconvert_exporter": "python",
   "pygments_lexer": "ipython3",
   "version": "3.6.8"
  }
 },
 "nbformat": 4,
 "nbformat_minor": 2
}
