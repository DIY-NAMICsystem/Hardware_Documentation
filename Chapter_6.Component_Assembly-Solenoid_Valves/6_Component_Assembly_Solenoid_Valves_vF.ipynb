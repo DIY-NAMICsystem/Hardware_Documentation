{
 "cells": [
  {
   "cell_type": "markdown",
   "metadata": {},
   "source": [
    "# Chapter 6. Component Assembly - Solenoid Valves\n",
    "\n",
    "#### <mark>What you will learn</mark>: \n",
    "\n",
    "Basics of solenoid valve operation, testing, and assembly + manifolds\n",
    "___"
   ]
  },
  {
   "cell_type": "markdown",
   "metadata": {},
   "source": [
    "### Introduction - What are solenoid valves?\n",
    "\n",
    "A solenoid valve is an electromechanical device in which the solenoid uses an electric current to generate a magnetic field and thereby regulate fluid flow using a valve. Simply put, the magnetic field created by solenoids are what switches the valves on and off. Then what are solenoids? **A solenoid is a cylindrical coil of wire acting as a magnet when carrying electric current.** Solenoids are actually easily confused with electromagnets, but the key difference is that the solenoids don’t have a metal core in the center. If there was a magnetic core, then it would be an electromagnet and the strength of the magnetic field would be proportional to the electric current. Without the magnetic core, the wires would be called a solenoid and exist only in binary on and off states. This is why solenoids are used as simple binary switches in electrical systems."
   ]
  },
  {
   "cell_type": "markdown",
   "metadata": {},
   "source": [
    "<div style=\"float: left; margin-right: 50px;\">\n",
    "    <img title=\"figure_1\" style=\"float: left; margin-left: 5px; border:solid 2px\" src=\"imgs/Figure_1.png\" align=center width=300/>\n",
    "</div>\n",
    "\n",
    "$\\Longrightarrow$\n",
    "**Figure 1:** *Example of a solenoid. Note the absence of a magnetic core. Note that these solenoids are inside the solenoid valves.*\n",
    "\n",
    "___"
   ]
  },
  {
   "cell_type": "markdown",
   "metadata": {},
   "source": [
    "<div style=\"float: left; margin-right: 50px;\">\n",
    "    <img title=\"figure_2\" style=\"float: left; margin-left: 5px; border:solid 2px\" src=\"imgs/Figure_2.png\" align=center width=300/>\n",
    "</div>\n",
    "\n",
    "$\\Longrightarrow$\n",
    "**Figure 2:** *Different types of solenoid valves.*\n",
    "\n",
    "___"
   ]
  },
  {
   "cell_type": "markdown",
   "metadata": {},
   "source": [
    "For the DNAMIC boxes, we use the solenoid valves to control the flow of reward. There are a lot of different types of solenoid valves out there and you should explore the different types that best fit your own needs. In our lab, we use [LHDA0531115H](https://www.theleeco.com/products/electro-fluidic-systems/solenoid-valves/control-valves/lhd-series/3-port/ported/) (3-port ported solenoid valves) because they are compact, and we are able to attach appropriate tubing to effectively lengthen the distance of reward delivery.\n",
    "\n",
    "____"
   ]
  },
  {
   "cell_type": "markdown",
   "metadata": {},
   "source": [
    "### Solenoid Valve LHDA0531115H\n",
    "\n",
    "The following is the solenoid valve we use in the lab. As you can notice from **Figures 3 and 4**, it is very small and has 3 ports."
   ]
  },
  {
   "cell_type": "markdown",
   "metadata": {},
   "source": [
    "<div style=\"float: left; margin-right: 50px;\">\n",
    "    <img title=\"figure_3\" style=\"float: left; margin-left: 5px; border:solid 2px\" src=\"imgs/Figure_3_3_3_3_3.png\" align=center width=300/>\n",
    "</div>\n",
    "\n",
    "$\\Longrightarrow$\n",
    "**Figure 3:** *Use starburst for comparision!*\n",
    "\n",
    "___"
   ]
  },
  {
   "cell_type": "markdown",
   "metadata": {},
   "source": [
    "<div style=\"float: left; margin-right: 50px;\">\n",
    "    <img title=\"figure_4\" style=\"float: left; margin-left: 5px; border:solid 2px\" src=\"imgs/Figure_4.png\" align=center width=300/>\n",
    "</div>\n",
    "\n",
    "$\\Longrightarrow$\n",
    "**Figure 4:** *Notice that the top port is closed off and the bottom two ports are open.*\n",
    "\n",
    "___"
   ]
  },
  {
   "cell_type": "markdown",
   "metadata": {},
   "source": [
    "You might also notice from **Figure 4** that the top port is closed off and the bottom two are open. I won’t go into the details of how solenoid valves work, but basically the solenoids control the opening and closing of the ports by releasing or obstructing the openings of the ports using a plunger (**Figure 5**). And with electrical current, we can control how long the valves stay open or closed. That’s how solenoid valves can dispense water (or any liquid or gas). Let's also look at a diagram from the official specification sheet to understand the solenoid valves better."
   ]
  },
  {
   "cell_type": "markdown",
   "metadata": {},
   "source": [
    "<div style=\"float: center; margin-bottom:10px\">\n",
    "    <img title=\"figure_5_1\" style=\"float: center\" src=\"imgs/Figure_5_1.png\" align=center width=400/>\n",
    "</div>\n",
    "\n",
    "\n",
    "$\\Longrightarrow$\n",
    "**Figure 5:** *Cross section view of the solenoid valve. Solenoid coil (green) controls the plunger (blue) which in turn determines which of the three ports will be open.* \n",
    "\n",
    "\n",
    "___"
   ]
  },
  {
   "cell_type": "markdown",
   "metadata": {},
   "source": [
    "<div style=\"float: center; margin-bottom:10px\">\n",
    "    <img title=\"figure_5\" style=\"float: center\" src=\"imgs/Figure_6.png\" align=center width=500/>\n",
    "</div>\n",
    "\n",
    "\n",
    "$\\Longrightarrow$\n",
    "**Figure 6:** *Diagram of the ports in solenoid LHDA0531115H. Note that the ports are either **‘normally closed’, ‘common’, or ‘normally open’** / Source: Lee Company* \n",
    "\n",
    "\n",
    "___"
   ]
  },
  {
   "cell_type": "markdown",
   "metadata": {},
   "source": [
    "As you can see from **Figure 6** the top port is 'normally closed' while the bottom port is 'normally open'. The middle port is 'common'. To be perfectly honest, I am not sure what this means or why the solenoids are designed like so. ***(Comments / Pull Requests / Feedback would be much appreciated from the enginnering community out there!)*** From what I've figured out however, I can control the fluid flow using the middle and top ports when the solenoid valve is powered up. Also, since the bottom port is “normally open”, we need to cap the port so that the fluid doesn’t leak during operation. In order to make the cap, I’ve just burned one side of the tubing and fitted it over the bottom port. **(Figure 7)**\n"
   ]
  },
  {
   "cell_type": "markdown",
   "metadata": {},
   "source": [
    "<div style=\"float: left; margin-right: 50px;\">\n",
    "    <img title=\"figure_7\" style=\"float: left; margin-left: 5px; border:solid 2px\" src=\"imgs/Figure_7.png\" align=center width=300/>\n",
    "</div>\n",
    "\n",
    "$\\Longrightarrow$\n",
    "**Figure 7:** *Tubing have been burnt at one end to be used as caps for the bottom port of the solenoid valve.*\n",
    "\n",
    "___"
   ]
  },
  {
   "cell_type": "markdown",
   "metadata": {},
   "source": [
    "### Manifolds\n",
    "\n",
    "DNAMIC boxes were designed to hold three noseports and thus three reward centers. Each reward center requires a solenoid valve which in turn requires a separate reward (fluid) source. However having a reward source for each solenoid valve is spatially expensive. Could there be a hardware that can solve this problem? Meet manifolds. Manifolds are chambers that branch into several openings, just like in **Figure 8** where the manifold branches out into 3 different ports or outlets (see the numberings 1, 2 and 3 in the figure). Our lab picked this [particular manifold](https://www.mcmaster.com/catalog%2f125%2f237) (Ref #: 5203K929) because it would allow fluid control to 3 different solenoid valves using just one syringe as an inlet source. These are also push-to-connect manifolds meaning that you can just push in the appropriate tubing into the orange outlet and the “claws” within the port will clamp down on the tubing and hold it down. Just make sure that the tubing end is cut evenly since a slanted cut will affect the effectiveness of the clamp. When inserting the tubing, make sure to pull out the orange O-ring completely, insert tubing, and push in the orange O-rings again. The tubing specifications used for the solenoid valves and manifolds can be found in the [Bill of Materials](https://github.com/jhl0204/AIM-Hardware-Documentations/wiki/Bill-of-Materials) (Part #: TET-062A)"
   ]
  },
  {
   "cell_type": "markdown",
   "metadata": {},
   "source": [
    "<div style=\"float: left; margin-right: 50px;\">\n",
    "    <img title=\"figure_8_1\" style=\"float: left; margin-left: 5px;\" src=\"imgs/Figure_8_1.png\" align=center width=400/>\n",
    "</div>\n",
    "\n",
    "$\\Longrightarrow$\n",
    "**Figure 8:** *Diagram of how the fluid will flow in the system. White arrows denote the direction of fluid flow. The dashed arrows signify that it will flow only when solenoid valve is powered up. Note that only one solenoid valve was shown in this example. Also note that the tubing from manifold is attached to the top port of the solenoid valve and the tubing from [reward spout]() LINK LINK LINK is attached to the middle port.*\n",
    "\n",
    "___"
   ]
  },
  {
   "cell_type": "markdown",
   "metadata": {},
   "source": [
    "<div style=\"float: left; margin-right: 50px;\">\n",
    "    <img title=\"figure_9\" style=\"float: left; margin-left: 5px; border:solid 2px\" src=\"imgs/Figure_9.png\" align=center width=300/>\n",
    "</div>\n",
    "\n",
    "$\\Longrightarrow$\n",
    "**Figure 9:** *Push-to-connect manifolds side by side. The orange O-ring is where the tubing goes in and can slide in and out.*\n",
    "\n",
    "___"
   ]
  },
  {
   "cell_type": "markdown",
   "metadata": {},
   "source": [
    "The tubing that goes into the manifold will connect to the top port of the solenoid (refer to **Figures 4 and 6**). When the manifold is fitted onto the manifold encasing, the length required for the tubing to reach the solenoid is about ~13cm. However, you can’t extend the length of the tubing after a cut, so give yourself some extra length and cut about 15cm for the tubing. These push-to-connect manifolds are prone to leaks and you might end up readjusting (pull out and re-insert) often. "
   ]
  },
  {
   "cell_type": "markdown",
   "metadata": {},
   "source": [
    "<div style=\"float: left; margin-right: 50px;\">\n",
    "    <img title=\"figure_10_2\" style=\"float: left; margin-left: 5px; border:solid 2px\" src=\"imgs/Figure_10_2.png\" align=center width=300/>\n",
    "</div>\n",
    "\n",
    "$\\Longrightarrow$\n",
    "**Figure 10:** *Manifold fitted with appropriate tubing. The numbers represent the number of outlets.*\n",
    "\n",
    "___"
   ]
  },
  {
   "cell_type": "markdown",
   "metadata": {},
   "source": [
    "The manifolds are also more prone to leakage when placed vertically. They will be lying horizontally on the encasings in the finished product however, so as long as the manifolds don’t leak when laid horizontally, you don’t need to worry about the leak. If they keep leaking after multiple adjustments however, try to identify the source and glue it in with Loctite 401. Personally, I found that the juncture between the body and the orange O-ring turns out to be the source of the leak 90% of the time, so that’s where I would use Loctite **(Figure 11)**. Going forward however, I believe a new manifold is needed since more than 80% of the outlets have been leaking with the normal push-to-connect mechanism."
   ]
  },
  {
   "cell_type": "markdown",
   "metadata": {},
   "source": [
    "<div style=\"float: left; margin-right: 50px;\">\n",
    "    <img title=\"figure_11\" style=\"float: left; margin-left: 5px; border:solid 2px\" src=\"imgs/Figure_11.png\" align=center width=300/>\n",
    "</div>\n",
    "\n",
    "$\\Longrightarrow$\n",
    "**Figure 11:** *Red arrow represents where I have glued the orange slider to the body. Green arrows indicate that no glue was used.*\n",
    "\n",
    "___"
   ]
  },
  {
   "cell_type": "markdown",
   "metadata": {},
   "source": [
    "###### END OF CHAPTER"
   ]
  },
  {
   "cell_type": "markdown",
   "metadata": {},
   "source": [
    "[Previous Chapter: 5.Component Assembly - Infrared Detectors](https://nbviewer.ipython.org/github/jhl0204/DNAMIC-Hardware-Documentations/blob/master/Chapter_5.Component_Assembly-Infrared_Detectors/5_Component_Assembly_IR_vF.ipynb)\n",
    "\n",
    "\n",
    "\n",
    "[Next Chapter: 7.Component Assembly - Reward Spout](https://nbviewer.ipython.org/github/jhl0204/DNAMIC-Hardware-Documentations/blob/master/Chapter_7.Component_Assembly-Reward_Spout/7_Component_Assembly_Reward_Spout_vF.ipynb)"
   ]
  }
 ],
 "metadata": {
  "kernelspec": {
   "display_name": "Python 3",
   "language": "python",
   "name": "python3"
  },
  "language_info": {
   "codemirror_mode": {
    "name": "ipython",
    "version": 3
   },
   "file_extension": ".py",
   "mimetype": "text/x-python",
   "name": "python",
   "nbconvert_exporter": "python",
   "pygments_lexer": "ipython3",
   "version": "3.6.8"
  }
 },
 "nbformat": 4,
 "nbformat_minor": 2
}
