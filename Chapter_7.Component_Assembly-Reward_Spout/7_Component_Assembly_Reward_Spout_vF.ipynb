{
 "cells": [
  {
   "cell_type": "markdown",
   "metadata": {},
   "source": [
    "# Chapter 7. Component Assembly - Reward Spout\n",
    "\n",
    "#### <mark>What you will learn</mark>: \n",
    "\n",
    "Cutting the hypodermic needles with a Dremel and fitting them with Luer Lock adapters and appropriate tubing to make the reward spout.\n",
    "____"
   ]
  },
  {
   "cell_type": "markdown",
   "metadata": {},
   "source": [
    "### Introduction\n",
    "\n",
    "To dispense the “reward” for our DNAMIC boxes, we used solenoids from the Lee Company and 21G hypodermic needles (which are often found in lab settings) as spouts. This section will walk you through the steps on how to make those spouts and later link them to solenoids with the appropriate tubing. \n"
   ]
  },
  {
   "cell_type": "markdown",
   "metadata": {},
   "source": [
    "### Step-by-step Tutorial\n",
    "\n",
    "1. Get a 21G Needle (0.8 $mm$ x 50 $mm$) – We used this gauge because it was a medium sized needle often found in lab settings. You can definitely use other gauges – just keep in mind that different sized needles will output volumes at different rates. Go through the trial and error process to determine the solenoid on duration for a target output volume. In our case with 21G needle, turning on the solenoid for 72 $ms$ amounts to approximately 10 $ul$ of volume output."
   ]
  },
  {
   "cell_type": "markdown",
   "metadata": {},
   "source": [
    "<div style=\"float: left; margin-right: 50px;\">\n",
    "    <img title=\"figure_1\" style=\"float: left; margin-left: 5px; border:solid 2px\" src=\"imgs/Figure_1.png\" align=center width=300/>\n",
    "</div>\n",
    "\n",
    "$\\Longrightarrow$\n",
    "**Figure 1:** *Get 21G hypodermic needles*\n",
    "\n",
    "___"
   ]
  },
  {
   "cell_type": "markdown",
   "metadata": {},
   "source": [
    "2. Mark off 1.5cm from the base of the needle (orange line). Always measure a little bit more than 1.5cm with a thick sharpie since manually operated Dremel will be imprecise."
   ]
  },
  {
   "cell_type": "markdown",
   "metadata": {},
   "source": [
    "<div style=\"float: left; margin-right: 50px;\">\n",
    "    <img title=\"figure_2\" style=\"float: left; margin-left: 5px; border:solid 2px\" src=\"imgs/Figure_2.png\" align=center width=300/>\n",
    "</div>\n",
    "\n",
    "$\\Longrightarrow$\n",
    "**Figure 2:** *Mark off 1.5 cm from the base of the needle*\n",
    "\n",
    "___"
   ]
  },
  {
   "cell_type": "markdown",
   "metadata": {},
   "source": [
    "3. With a Dremel fitted with an EZ Lock ***metal*** cutting wheel, cut the hypodermic needle at the Sharpie marking"
   ]
  },
  {
   "cell_type": "markdown",
   "metadata": {},
   "source": [
    "#### SAFETY NOTE:\n",
    "\n",
    "> When you cut off the needles at the marking, you’ll have the other end of the needle which is still sharp. Make sure to dispose of them properly in the sharp’s container!! The sharp needles can seriously hurt someone if disposed improperly."
   ]
  },
  {
   "cell_type": "markdown",
   "metadata": {},
   "source": [
    "<div style=\"float: left; margin-right: 50px;\">\n",
    "    <img title=\"figure_3\" style=\"float: left; margin-left: 5px; border:solid 2px\" src=\"imgs/Figure_3.png\" align=center width=300/>\n",
    "</div>\n",
    "\n",
    "$\\Longrightarrow$\n",
    "**Figure 3:** *Red Sharps Container in the background*\n",
    "\n",
    "___"
   ]
  },
  {
   "cell_type": "markdown",
   "metadata": {},
   "source": [
    "<div style=\"float: left; margin-right: 50px;\">\n",
    "    <img title=\"figure_4\" style=\"float: left; margin-left: 5px; border:solid 2px\" src=\"imgs/Figure_4.png\" align=center width=300/>\n",
    "</div>\n",
    "\n",
    "$\\Longrightarrow$\n",
    "**Figure 4:** *Properly disposing the sharp ends into the sharp’s container.*\n",
    "\n",
    "___"
   ]
  },
  {
   "cell_type": "markdown",
   "metadata": {},
   "source": [
    "4. After you make the cut, sand down the needle tip with a belt grinder. We’re lucky to have one at the machine shop next door in our lab, but if you don’t have one, you can use a filer or other sand paper. This is to not only make the needles blunter for safety reasons but also to increase liquid flow within the spout (needle)."
   ]
  },
  {
   "cell_type": "markdown",
   "metadata": {},
   "source": [
    "<div style=\"float: left; margin-right: 50px;\">\n",
    "    <img title=\"figure_5\" style=\"float: left; margin-left: 5px; border:solid 2px\" src=\"imgs/Figure_5.png\" align=center width=300/>\n",
    "</div>\n",
    "\n",
    "$\\Longrightarrow$\n",
    "**Figure 5:** *Using the belt grinder to sand down the needle spout.*\n",
    "\n",
    "___"
   ]
  },
  {
   "cell_type": "markdown",
   "metadata": {},
   "source": [
    "<div style=\"float: left; margin-right: 50px;\">\n",
    "    <img title=\"figure_6\" style=\"float: left; margin-left: 5px; border:solid 2px\" src=\"imgs/Figure_6.png\" align=center width=300/>\n",
    "</div>\n",
    "\n",
    "$\\Longrightarrow$\n",
    "**Figure 6:** *It is a bit hard to see, but the tip of the needle is sanded down.* **(Red Circle)**\n",
    "\n",
    "___"
   ]
  },
  {
   "cell_type": "markdown",
   "metadata": {},
   "source": [
    "5. Assemble the needle with Luer Lock adapter and tubing (Part #: TET-062A - See [Bill of Materials](https://github.com/jhl0204/AIM-Hardware-Documentations/wiki/Bill-of-Materials)). The length of tubing for the solenoid needle should be around 9 cm. This is to minimize the kinking and to make the final box look neater. To give yourself a little wiggle room however, always cut more than 9 cm since you can always cut down the length but can’t extend it. The other end of the tubing should be fitted to the middle port of the solenoid valve. **(Figure 8)**"
   ]
  },
  {
   "cell_type": "markdown",
   "metadata": {},
   "source": [
    "<div style=\"float: left; margin-right: 50px;\">\n",
    "    <img title=\"figure_7\" style=\"float: left; margin-left: 5px; border:solid 2px\" src=\"imgs/Figure_7.png\" align=center width=300/>\n",
    "</div>\n",
    "\n",
    "$\\Longrightarrow$\n",
    "**Figure 7:** *From Left to Right: Needle, Luer Lock adapter, Tygon E-3603 Tubing (Part #: TET-062A), Solenoid Valve*\n",
    "\n",
    "___"
   ]
  },
  {
   "cell_type": "markdown",
   "metadata": {},
   "source": [
    "<div style=\"float: left; margin-right: 50px;\">\n",
    "    <img title=\"figure_8\" style=\"float: left; margin-left: 5px; border:solid 2px\" src=\"imgs/Figure_8.png\" align=center width=300/>\n",
    "</div>\n",
    "\n",
    "$\\Longrightarrow$\n",
    "**Figure 8:** *The other end of the tubing should fit onto the middle port of the solenoid valve.*\n",
    "\n",
    "___"
   ]
  },
  {
   "cell_type": "markdown",
   "metadata": {},
   "source": [
    "###### END OF CHAPTER"
   ]
  },
  {
   "cell_type": "markdown",
   "metadata": {},
   "source": [
    "[Previous Chapter: 6.Component Assembly - Solenoid Valves](https://nbviewer.ipython.org/github/jhl0204/DNAMIC-Hardware-Documentations/blob/master/Chapter_6.Component_Assembly-Solenoid_Valves/6_Component_Assembly_Solenoid_Valves_vF.ipynb) \n",
    "\n",
    "\n",
    "\n",
    "[Next Chapter: 8.Wiring and Soldering](https://nbviewer.ipython.org/github/jhl0204/DNAMIC-Hardware-Documentations/blob/master/Chapter_8.Wiring_and_Soldering/8_Wiring_and_Soldering_vF.ipynb)"
   ]
  }
 ],
 "metadata": {
  "kernelspec": {
   "display_name": "Python 3",
   "language": "python",
   "name": "python3"
  },
  "language_info": {
   "codemirror_mode": {
    "name": "ipython",
    "version": 3
   },
   "file_extension": ".py",
   "mimetype": "text/x-python",
   "name": "python",
   "nbconvert_exporter": "python",
   "pygments_lexer": "ipython3",
   "version": "3.6.8"
  }
 },
 "nbformat": 4,
 "nbformat_minor": 2
}
