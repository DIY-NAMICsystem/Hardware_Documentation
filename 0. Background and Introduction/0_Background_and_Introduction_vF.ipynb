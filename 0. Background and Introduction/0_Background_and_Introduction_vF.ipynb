{
 "cells": [
  {
   "cell_type": "markdown",
   "metadata": {},
   "source": [
    "# Introduction to Arduino Instrumental Modules*\n",
    "\n",
    "\n",
    "> **WHY is it called Instrumental?** \n",
    "\n",
    "- In behavioral neuroscience, ***instrumental*** is synonymous to operant, which means that a subject's voluntary behavior gets associated with a consequence. This is in contrast with Pavlovian conditioning where a stimulus gets associated with a subject's involuntary response. \n",
    "    \n",
    "- Since most paradigms performed in the boxes require rodent voluntary behavior, we have included ***instrumental*** in the name.\n",
    "\n",
    "- Throughout the chapters, you might also see AIM referred to as **DNAMIC** boxes. DNAMIC stands for Dartmouth Nautiyal Arduino Modular Instrumental Cage and is referred to as such in our lab, since it came out of the [Nautiyal Lab](https://www.nautiyal-lab.com/) at [Dartmouth College](https://home.dartmouth.edu/)! \n",
    "___\n",
    "\n"
   ]
  },
  {
   "cell_type": "markdown",
   "metadata": {},
   "source": [
    "### Background - Current Limitations in Behavioral Neuroscience Research\n",
    "\n",
    "Many psychiatric disorders emerge during adolescence [[1]](https://www.ncbi.nlm.nih.gov/pubmed/28198416), necessitating a careful study of this period in order to prevent these disorders from the onset. To study rodent behavior, behavioral neuroscientists have traditionally used operant boxes from [Med Associates](https://www.med-associates.com/). While these boxes offer diverse and reliable paradigms to test unique behavioral phenotypes of adolescents [[2]](https://www.ncbi.nlm.nih.gov/pmc/articles/PMC5453624/), most of the paradigms require months to train the subjects. Considering that the adolescence period in mice span only about 2 weeks, this temporal constraint poses a significant hindrance to studying adolescence in a controlled environment."
   ]
  },
  {
   "cell_type": "markdown",
   "metadata": {},
   "source": [
    "### Introduction\n",
    "\n",
    "_____\n",
    "\n",
    "A major reason why the paradigms take weeks to just complete the training phase is because mice are not exposed to the paradigms around the clock and thus can't learn quickly. Due to the design and nature of the Med Associates Operant boxes, mice can only be trained on a particular paradigm for a given amount of time per day. Coupled with the reality that most labs try to fit in multiple experiments in their set of operant boxes, the amount of time subjects have per day to learn a certain paradigm is severely limited.\n",
    "\n",
    "Our lab's solution to this problem was to create a home-cage based operant box so that mice are exposed to paradigms 24 hours a day and can self-pace their learning. While this solution has its limitations such as the inability to group-house animals, it offers many more advantages such as the following."
   ]
  },
  {
   "cell_type": "markdown",
   "metadata": {},
   "source": [
    "\n",
    "#### Advantages of using AIM\n",
    "_____\n",
    "\n",
    "##### 1. Decreased Stressors for Animal Subjects / Elimination of Confounders\n",
    "\n",
    "- Subjects have *ad libitum* access to food and can earn unlimited water rewards depending on their task performance. *Ad libitum* access prevents pronounced weight loss, a putative stress-inducing factor for mice.\n",
    "\n",
    "\n",
    "- Subjects undergo decreased animal handling since experimenters do not have to transfer mice to the operant boxes for training/testing. Animal handling is also a putative stress-inducing factor that is a confounder for mice behavior.\n",
    "\n",
    "\n",
    "- Subjects do not have to acclimatize to a new environment (Med Associates operant boxes) for paradigm training/testing. Exposure to new environment is another putative confounder for mice behavior especially during adolescence when novelty seeking behavior is high.\n",
    "\n",
    "##### 2. Better Data Quality \n",
    "\n",
    "- 24 hour automated data collection, which allows high temporal resolution data and reduces most of labor-intensive work for the experimenter.\n",
    "\n",
    "##### 3. Decreased Experiment Time \n",
    "\n",
    "- Subjects have 24 hour access to a given paradigm, allowing them to learn the paradigms quickly. In fact, mice have learned the variant 5-choice serial reaction time task in just 2 weeks, a paradigm that typically takes months to complete. This is a crucial reason why we can study **adolescence** using AIM. \n",
    "\n",
    "\n",
    "##### 4. Compatibility / Flexibility \n",
    "\n",
    "- Compatible with standard laboratory colony caging setups.\n",
    "\n",
    "##### 5. Low Cost\n",
    "\n",
    "- Inexpensive and low-cost relative to traditional Med Associates operant boxes, making high throughput experiments feasible. For comparision, a typical Med Associates [Behavioral Test Box with Five Hole Nose Poke for Mouse](https://www.med-associates.com/product/five-hole-nose-poke-wall-chamber-package-for-mouse-2/) costs \\\\$4000 per box. AIM costs \\\\$200 per box with an initial equipment investment cost of \\\\$340. \n",
    "\n",
    "\n",
    "##### 6.Open Source \n",
    "\n",
    "- All design files and code are open source - Contribution from members of the research community will improve this project and set forth new avenues for better tools in behavioral neuroscience research. Being open source also means that the software is free. For comparision, Med Associates requires a compatible software rig to be purchased with its boxes. Med Associates rig that supports up to 8 boxes cost \\\\$6800. AIM runs on open-source Arduino platform, that supports unlimited number of Arduino microprocessors. \n",
    "\n",
    "\n"
   ]
  },
  {
   "cell_type": "markdown",
   "metadata": {},
   "source": [
    "### Quick Cost Comparision Chart \n",
    "- (For 8 boxes)\n",
    "\n",
    "Cost| Med Associates Boxes | Arduino Instrumental Modules (AIM)\n",
    "------|:-------:| -----\n",
    "**Box** | 8 x \\\\$4000 = \\\\$32,000 | \\\\$340* + (8 x \\\\$200) = \\\\$1,940\n",
    "**Software** | \\\\$6,800 | \\\\$0  \n",
    "**Total** | \\\\$38,800 | \\\\$1,940\n",
    "\n",
    "\n",
    "\n",
    "* AIM requires about initial equipment investment of \\\\$340.\n",
    "\n",
    "$\\Longrightarrow$ **Conclusion:** 20-fold reduction in cost when using AIM! "
   ]
  },
  {
   "cell_type": "markdown",
   "metadata": {},
   "source": [
    "____"
   ]
  },
  {
   "cell_type": "markdown",
   "metadata": {},
   "source": [
    "###### END OF CHAPTER"
   ]
  },
  {
   "cell_type": "markdown",
   "metadata": {},
   "source": [
    "[Previous Chapter - README]()\n",
    "\n",
    "\n",
    "\n",
    "[Next Chapter - 1.Insert Caption here ]()"
   ]
  },
  {
   "cell_type": "code",
   "execution_count": null,
   "metadata": {},
   "outputs": [],
   "source": []
  }
 ],
 "metadata": {
  "kernelspec": {
   "display_name": "Python 3",
   "language": "python",
   "name": "python3"
  },
  "language_info": {
   "codemirror_mode": {
    "name": "ipython",
    "version": 3
   },
   "file_extension": ".py",
   "mimetype": "text/x-python",
   "name": "python",
   "nbconvert_exporter": "python",
   "pygments_lexer": "ipython3",
   "version": "3.6.8"
  }
 },
 "nbformat": 4,
 "nbformat_minor": 2
}
