{
 "cells": [
  {
   "cell_type": "markdown",
   "metadata": {},
   "source": [
    "# Chapter 3. OM1 Shield (soldering the components)\n",
    "\n",
    "#### <mark>What you will learn</mark>: \n",
    "\n",
    "Soldering on the necessary components to make a functioning OM1 Shield\n",
    "____"
   ]
  },
  {
   "cell_type": "markdown",
   "metadata": {},
   "source": [
    "One of the great things about Arduinos is that you can add various functionalities on top of the bare-bone Arduino. You can do this with Arduino shields, which you can stack on top of the Arduino to add new functionalities. These shields allow the Arduino to connect to WiFi, Ethernet, and even power up components that require more voltage than its microprocessor (ATMEGA328P) can normally handle. Shields usually come shipped ready to be used with Arduinos, but if you're building one from scratch (from printed circuit boards), you'll have to add some components. Our lab ordered PCBs to build a compatible shield from scratch and in this section, we will go through the steps on how to attach the necessary components to make a functioning OM1 shield (designed by [openmaze.org](http://openmaze.org/))."
   ]
  },
  {
   "cell_type": "markdown",
   "metadata": {},
   "source": [
    "### OM1 Shield\n",
    "\n",
    "One of my Principal Investigator's colleague has already implemented Arduino shields (OpenMaze 1 – OM1 for short) to run his own behavioral experiments and luckily for us, the designs were open source. You can find details about the the shield [here](www.openmaze.org). To give you a brief summary however, these are the major features of the OM1 shield:\n",
    "\n",
    "1)\t7 pins broken out to Power-Ground-Input-Output (PGIO) ports (red box)  \n",
    "> **IMPORTANT:** Breakout pins 7,8,9,10 are not connected to normal Arduino power. In order to supply 5V power to these 4 breakout pins, you must connect the pink circle (arrow) with the other pink circle with a jumper wire. For 12V power, connect the pink circle (arrow) with the green circle (refer to PCB connection diagram for explanation).  \n",
    "\n",
    "2)\tsocket for the H-bridge chip (green box)  \n",
    "3)\t4 pins broken out for solenoid valves (blue box)  \n",
    "4)\ta connector for MPR121 capacitive touch sensor (yellow box) - won’t be using in the lab  \n"
   ]
  },
  {
   "cell_type": "markdown",
   "metadata": {},
   "source": [
    "<div style=\"float: center; margin-bottom:10px\">\n",
    "    <img title=\"figure_1\" style=\"float: center\" src=\"imgs/Figure_1.png\" align=center width=400/>\n",
    "</div>\n",
    "\n",
    "\n",
    "$\\Longrightarrow$\n",
    "**Figure 1:** *Diagram of the OM1 Shield. [Source](http://www.openmaze.org/)* \n",
    "\n",
    "\n",
    "___"
   ]
  },
  {
   "cell_type": "markdown",
   "metadata": {},
   "source": [
    "Note that the picture above is a bare bone shield. The electrical connections are all imprinted within the printed circuit board (PCB), but it won’t work unless we attach the necessary components and the headers! This section will detail the steps on how to solder on the necessary components."
   ]
  },
  {
   "cell_type": "markdown",
   "metadata": {},
   "source": [
    "<div style=\"float: left; margin-right: 50px;\">\n",
    "    <img title=\"figure_2\" style=\"float: left; margin-left: 5px; border:solid 2px\" src=\"imgs/Figure_2.png\" align=center width=300/>\n",
    "</div>\n",
    "\n",
    "$\\Longrightarrow$\n",
    "**Figure 2:** *Small version of all the electrical connections within the OM1 Shield. Red and blue lines are used just to differentiate connections. They do not carry any meaning. To see a larger version see [here](https://github.com/jhl0204/DNAMIC-Hardware-Documentations/blob/master/Supplementary_Images/PCB_layout.png)\n",
    "\n",
    "___"
   ]
  },
  {
   "cell_type": "markdown",
   "metadata": {},
   "source": [
    "### Necessary Components \n",
    "\n",
    "Below is a picture of the necessary components that we have to solder on to the OM1 shield. "
   ]
  },
  {
   "cell_type": "markdown",
   "metadata": {},
   "source": [
    "<div style=\"float: left; margin-right: 50px;\">\n",
    "    <img title=\"figure_3\" style=\"float: left; margin-left: 5px; border:solid 2px\" src=\"imgs/Figure_3.png\" align=center width=300/>\n",
    "</div>\n",
    "\n",
    "$\\Longrightarrow$\n",
    "**Figure 3:** *List of components needed to make a functioning OM1 Shield.*\n",
    "\n",
    "___"
   ]
  },
  {
   "cell_type": "markdown",
   "metadata": {},
   "source": [
    "The following is the list of bare minimum materials necessary to make a functioning OM1 Shield. For more details and where to purchase them, refer to the [Bill of Materials](https://github.com/jhl0204/AIM-Hardware-Documentations/wiki/Bill-of-Materials)\n",
    "\n",
    "- OM1 Shield \n",
    "- pushbutton \n",
    "- 2.1mm DC Barrel Jack\n",
    "- Stacking Headers (1x10 (1) / 1x8 (2) / 1x6 (1))\n",
    "- Chip Socket + H Bridge\n",
    "- Female + Male Headers \n"
   ]
  },
  {
   "cell_type": "markdown",
   "metadata": {},
   "source": [
    "##### What is a H-Bridge? (optional)\n",
    "\n",
    "> At this point you might be wondering what a H-bridge is. (If you haven’t been wondering, that’s fine too – you can skip this part). There are a bunch of online resources that explain how H-bridges work and in which settings they are used. I won’t go into those details because all the “under the hood” intricacies are not important for our purposes. We only need to know that H-bridges are electric circuits that can reverse the polarity of the voltage and that they can “amplify” low power signals to high power signals. That is how Arduinos, which has a 5V limit, use H-bridges to power up solenoids which require 9V input. H-bridges are also used widely in robotics to drive motors forward and backward. For reference though, we are using a dual H-Bridge motor driver (L293D) that can run four solenoids at once with a limit of 600mA per channel. \n",
    "\n",
    "Links for more learning:   \n",
    "1) [Making H-Bridge on a Breadboard](https://www.instructables.com/id/H-Bridge-on-a-Breadboard/)  \n",
    "2) [Basics of H-Bridge](http://www.modularcircuits.com/blog/articles/h-bridge-secrets/h-bridges-the-basics/)  \n",
    "3) [Driving a DC Motor using H-Bridge](http://hades.mech.northwestern.edu/index.php/Driving_a_high_current_DC_Motor_using_an_H-bridge)  "
   ]
  },
  {
   "cell_type": "markdown",
   "metadata": {},
   "source": [
    "### Soldering Diagram\n",
    "\n",
    "Once you have all the components ready, you can just solder those components according to the diagram below. For best solder results however, refer to tips 2 and 3 from [Essential Tips and Tricks](https://nbviewer.ipython.org/github/jhl0204/DNAMIC-Hardware-Documentations/blob/master/Chapter_1.Getting_Started-Essential_Tips_and_Tricks/1_Essential_Tips_and%20Tricks_vF.ipynb) before starting. \n"
   ]
  },
  {
   "cell_type": "markdown",
   "metadata": {},
   "source": [
    "<div style=\"float: center; margin-bottom:10px\">\n",
    "    <img title=\"figure_4\" style=\"float: center\" src=\"imgs/Figure_4.png\" align=center width=600/>\n",
    "</div>\n",
    "\n",
    "\n",
    "___"
   ]
  },
  {
   "cell_type": "markdown",
   "metadata": {},
   "source": [
    "The physical components are color coded with red, stacking headers with dark blue, and female headers with green. When soldering on any components, make sure to adjust the pins if necessary so that they would fit into the holes on the board. "
   ]
  },
  {
   "cell_type": "markdown",
   "metadata": {},
   "source": [
    "### Note on the Chip Socket\n",
    "\n",
    "The chip socket and the H-bridge chip have directionality. When soldering on the chip socket and inserting the H-bridge chip, make sure the semicircle is aligned according to the arrow. The semicircle in the chip determines the location of pin 1. As can be seen from **Figure 6**, pin 1 starts from the upper left corner where the semicircle is located. For more details on how the H-bridge connects to the solenoid, see the diagram below **Figure 6**. Also you might have realized that the socket doesn’t actually have directionality (only H-Bridges do). However, I do recommend aligning the socket as well since it would be easier to remember the direction when inserting in the H-bridge. "
   ]
  },
  {
   "cell_type": "markdown",
   "metadata": {},
   "source": [
    "<div style=\"float: left; margin-right: 50px;\">\n",
    "    <img title=\"figure_5\" style=\"float: left; margin-left: 5px; border:solid 2px\" src=\"imgs/Figure_5.png\" align=center width=300/>\n",
    "</div>\n",
    "\n",
    "$\\Longrightarrow$\n",
    "**Figure 5:** *Note how the half circle in the chip socket is aligned in the direction of the yellow arrow. Red box is explained in detail in **Figure 6**.*\n",
    "\n",
    "___"
   ]
  },
  {
   "cell_type": "markdown",
   "metadata": {},
   "source": [
    "<div style=\"float: left; margin-right: 50px;\">\n",
    "    <img title=\"figure_6\" style=\"float: left; margin-left: 5px; border:solid 2px\" src=\"imgs/Figure_6.png\" align=center width=150/>\n",
    "</div>\n",
    "\n",
    "$\\Longrightarrow$\n",
    "**Figure 6:** *Diagram of H-bridge used in OM1 Shield. [Source](http://www.openmaze.org/)*\n",
    "\n",
    "___"
   ]
  },
  {
   "cell_type": "markdown",
   "metadata": {},
   "source": [
    "### Finished Shield"
   ]
  },
  {
   "cell_type": "markdown",
   "metadata": {},
   "source": [
    "<div style=\"float: left; margin-right: 50px;\">\n",
    "    <img title=\"figure_7\" style=\"float: left; margin-left: 5px; border:solid 2px\" src=\"imgs/Figure_7.png\" align=center width=200/>\n",
    "</div>\n",
    "\n",
    "$\\Longrightarrow$\n",
    "**Figure 7:** *Top view of the finished OM1 Shield*\n",
    "\n",
    "___"
   ]
  },
  {
   "cell_type": "markdown",
   "metadata": {},
   "source": [
    "<div style=\"float: left; margin-right: 50px;\">\n",
    "    <img title=\"figure_8\" style=\"float: left; margin-left: 5px; border:solid 2px\" src=\"imgs/Figure_8.png\" align=center width=200/>\n",
    "</div>\n",
    "\n",
    "$\\Longrightarrow$\n",
    "**Figure 8:** *OM1 Shield stacked on top of the Arduino.*\n",
    "\n",
    "___"
   ]
  },
  {
   "cell_type": "markdown",
   "metadata": {},
   "source": [
    "<div style=\"float: left; margin-right: 50px;\">\n",
    "    <img title=\"figure_9\" style=\"float: left; margin-left: 5px; border:solid 2px\" src=\"imgs/Figure_9.png\" align=center width=300/>\n",
    "</div>\n",
    "\n",
    "$\\Longrightarrow$\n",
    "**Figure 9:** *Side view of the Arduino + OM1 Shield*\n",
    "\n",
    "___"
   ]
  },
  {
   "cell_type": "markdown",
   "metadata": {},
   "source": [
    "<div style=\"float: left; margin-right: 50px;\">\n",
    "    <img title=\"figure_10\" style=\"float: left; margin-left: 5px; border:solid 2px\" src=\"imgs/Figure_10.png\" align=center width=300/>\n",
    "</div>\n",
    "\n",
    "$\\Longrightarrow$\n",
    "**Figure 10:** *Front view of the Arduino + OM1 Shield*\n",
    "\n",
    "___"
   ]
  },
  {
   "cell_type": "markdown",
   "metadata": {},
   "source": [
    "###### END OF CHAPTER"
   ]
  },
  {
   "cell_type": "markdown",
   "metadata": {},
   "source": [
    "[Previous Chapter: 2.Modifying the Rodent Cage](https://nbviewer.ipython.org/github/jhl0204/DNAMIC-Hardware-Documentations/blob/master/Chapter_2.Modifying_Rodent_Cage/2_Modifying_the_Rodent_Cage_vF.ipynb)\n",
    "\n",
    "\n",
    "\n",
    "[Next Chapter: 4.Component Assembly - LED](https://nbviewer.ipython.org/github/jhl0204/DNAMIC-Hardware-Documentations/blob/master/Chapter_4.Component_Assembly-LED/4_Component_Assembly_LED_vF.ipynb)"
   ]
  }
 ],
 "metadata": {
  "kernelspec": {
   "display_name": "Python 3",
   "language": "python",
   "name": "python3"
  },
  "language_info": {
   "codemirror_mode": {
    "name": "ipython",
    "version": 3
   },
   "file_extension": ".py",
   "mimetype": "text/x-python",
   "name": "python",
   "nbconvert_exporter": "python",
   "pygments_lexer": "ipython3",
   "version": "3.6.8"
  }
 },
 "nbformat": 4,
 "nbformat_minor": 2
}
