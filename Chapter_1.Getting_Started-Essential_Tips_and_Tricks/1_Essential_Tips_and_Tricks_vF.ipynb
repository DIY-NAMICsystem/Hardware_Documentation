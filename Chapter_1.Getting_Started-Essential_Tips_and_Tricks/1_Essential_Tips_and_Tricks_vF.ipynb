{
 "cells": [
  {
   "cell_type": "markdown",
   "metadata": {},
   "source": [
    "# Chapter 1. Essential Tips and Tricks\n",
    "\n",
    "#### <mark>What you will learn</mark>: \n",
    "In-house tips and tricks that I learned (googled) that will be useful in making the DNAMIC (AIM) boxes. \n",
    "____"
   ]
  },
  {
   "cell_type": "markdown",
   "metadata": {},
   "source": [
    "### Introduction\n",
    "\n",
    "Every engineer requires good tools and best practices to survive. They not only make the job much easier, but more importantly, they allow the engineer to be highly accurate and consistent. For example, imagine having to solder on something **WITHOUT** a soldering iron. How in the world would you do that?! I’m not an engineer myself but I’m going to share with you few essential tips and tricks that I learned (googled) along my Arduino journey that helped me finish the project and save me weeks of trouble. I’m hoping you’ll find these tips useful as well. \n"
   ]
  },
  {
   "cell_type": "markdown",
   "metadata": {},
   "source": [
    "### 1. Multimeter\n",
    "\n",
    "Multimeters are by far the most useful and most important debugging tool you’ll have while finishing this project (or any electrical engineering project). If you don’t have one at hand, stop reading this right now and order one on Amazon. Seriously. It’s that important. [Amazon Link to Multimeter](https://www.amazon.com/AstroAI-Digital-Multimeter-Voltage-Tester/dp/B01ISAMUA6/ref=sr_1_1_sspa?keywords=multimeter&qid=1571619926&sr=8-1-spons&psc=1&spLa=ZW5jcnlwdGVkUXVhbGlmaWVyPUFINUcyVlJPTUk2S0gmZW5jcnlwdGVkSWQ9QTA4NTQ4Mzg1U0pNUlYxREUzN0QmZW5jcnlwdGVkQWRJZD1BMDAzNzc5MTNNMU05T1dXRVhWMEQmd2lkZ2V0TmFtZT1zcF9hdGYmYWN0aW9uPWNsaWNrUmVkaXJlY3QmZG9Ob3RMb2dDbGljaz10cnVl)\n",
    "\n",
    "Multimeters can measure a lot of things including continuity, resistance, voltage, current, capacitance etc. But the most useful functionality (in my opinion) is the continuity / diode testing mode. This functionality allows you to check if a diode is working or not (which has directionality), and whether two points in a circuit are electrically connected or not. The multimeter will beep (output of a piezo buzzer) if the two points are connected and will light up the LED if the cathode is connected to GND and anode is connected to PWR. But always remember to turn the knob to continuity / diode testing mode before testing anything! Otherwise the multimeter would be powered off… \n",
    "\n",
    "\n"
   ]
  },
  {
   "cell_type": "markdown",
   "metadata": {},
   "source": [
    "<div style=\"float: left; margin-right: 50px;\">\n",
    "    <img title=\"multimeter\" style=\"float: left; margin-left: 5px; border:solid 2px\" src=\"imgs/multimeter.jpg\" align=center width=200/>\n",
    "</div>\n",
    "\n",
    "$\\Longrightarrow$\n",
    "**Figure 1:** *Continuity test mode shown on the multimeter (white circle). The value on the display indicate the resistance value. Value “1” signifies that it’s an open loop.*\n",
    "\n",
    "___\n"
   ]
  },
  {
   "cell_type": "markdown",
   "metadata": {},
   "source": [
    "\n",
    "<div style=\"float: left; margin-right: 50px; margin-top: 5px\">\n",
    "    <img src=\"imgs/continuity_symbol.jpg\" style=\"float:left; margin-left: 5px; border: solid 2px\" width=\"200\"/>  \n",
    "</div>\n",
    "\n",
    "$\\Longrightarrow$\n",
    "**Figure 2:** *Close up view of the continuity / diode testing option*\n",
    "___"
   ]
  },
  {
   "cell_type": "markdown",
   "metadata": {},
   "source": [
    "To provide more perspective, continuity testing is extremely useful in verifying your solder joints either on the printed circuit boards (PCB) or on any other wires. If you’ve soldered something on, probed the two solder points and got a beep, that means the two points are connected. Now this might be good or bad depending on each case. If you meant to connect the two points, then you're all set. If the two points are **NOT** supposed to be connected, then you have a short circuit. This means you’ll have to redo the solder connection, but doing this now will save you a ton of time in the future when you’re running your software on the circuit board and the hardware component is not working as you expected. (Hardware will not work properly if there is a short circuit!). \n",
    "\n",
    "Below is a summary I found on [Adafruit.com](https://learn.adafruit.com/multimeters/continuity) on various things the continuity test can be useful for: "
   ]
  },
  {
   "cell_type": "markdown",
   "metadata": {},
   "source": [
    "<div style=\"float:center; margin-right: 50px; margin-top: 5px\">\n",
    "    <img src=\"imgs/continuity_testing.jpg\" style=\"float:center; border: solid 2px; margin-bottom: 10px\" width=\"600\"/>  \n",
    "</div>\n"
   ]
  },
  {
   "cell_type": "markdown",
   "metadata": {},
   "source": [
    "#### Using the multimeter for this project\n",
    "\n",
    "To make our DNAMIC boxes, we need the following major components: PCB / LEDs / IRs/ and solenoids.\n",
    "\n",
    "Using the multimeter on the PCB is fairly straightforward. If you want to verify connections between two points, you can probe it using the clips. If It’s connected, you should hear a beep. Using the multimeter on LEDs is simple as well. Once you connect them correctly, ***(cathode to GND / anode to PWR)*** the LED will light up (you will not hear any beeps). For IR LEDs, you won’t “see” the IRs light up because human eyes can’t detect infrared light but ***there are [tricks](https://nbviewer.ipython.org/github/jhl0204/DNAMIC-Hardware-Documentations/blob/master/Chapter_5.Component_Assembly-Infrared_Detectors/5_Component_Assembly_IR_vF.ipynb) you can use to \"see\" the IRs***. For solenoids, it’s a little different story. If you test out the two leads, although the two leads are not touching each other, the multimeter will give you a beep. How could that be? Is there a short circuit? Did the solenoid valve get broken right out of the package? "
   ]
  },
  {
   "cell_type": "markdown",
   "metadata": {},
   "source": [
    "\n",
    "<div style=\"float: left; margin-right: 50px; margin-top: 5px\">\n",
    "    <img src=\"imgs/solenoid.jpg\" style=\"float:left; margin-left: 5px\" width=\"200\"/>  \n",
    "</div>\n",
    "\n",
    "$\\Longrightarrow$\n",
    "**Figure 3:** *Red arrow indicates Power (PWR) and the black arrow indicates Ground (GND)*\n",
    "___"
   ]
  },
  {
   "cell_type": "markdown",
   "metadata": {},
   "source": [
    "Quite the contrary. I talk about this in the [solenoid valve section](https://nbviewer.ipython.org/github/jhl0204/DNAMIC-Hardware-Documentations/blob/master/Chapter_6.Component_Assembly-Solenoid_Valves/6_Component_Assembly_Solenoid_Valves_vF.ipynb), but the solenoids are actually continuous cylindrical coil of wire. The two leads you see in **Figure 3** are actually two ends of the same wire. The cylindrical coil is hidden inside the component. The exact resistance of the coil will depend on a lot of things, but it will tend to be very low and seem like a short circuit. If they don't have a low resistance, then it's likely that the wire has broken internally, and the valve is dead. So to sum it up, the “beep” you hear when you test out the continuity on the solenoid valves means that the valves are working! \n",
    "\n",
    "____"
   ]
  },
  {
   "cell_type": "markdown",
   "metadata": {},
   "source": [
    "### 2. Breaking off Pins \n",
    "\n",
    "Breaking off header pins (especially female types) correctly is surprisingly difficult. If you try breaking them off with a wire cutter, you’ll notice that often times you end up with one less header than you intended because the encasings break off. Thus, this method of using the wire cutters is very unreliable when you want to get a specific length of the header pins."
   ]
  },
  {
   "cell_type": "markdown",
   "metadata": {},
   "source": [
    "\n",
    "\n",
    "<div style=\"float: left; margin-right: 50px; margin-top: 5px\">\n",
    "    <img src=\"imgs/figure_4.png\" style=\"float:left; margin-left: 5px; border:solid 2px\" width=\"300\"/>  \n",
    "</div>\n",
    "\n",
    "$\\Longrightarrow$\n",
    "**Figure 4:** *Two types of header pins – Female (red circle) and Male (green circle) pins.*\n",
    "___"
   ]
  },
  {
   "cell_type": "markdown",
   "metadata": {},
   "source": [
    "\n",
    "\n",
    "<div style=\"float: left; margin-right: 50px; margin-top: 5px\">\n",
    "    <img src=\"imgs/figure_5.png\" style=\"float:left; margin-left: 5px; border:solid 2px\" width=\"300\"/>  \n",
    "</div>\n",
    "\n",
    "$\\Longrightarrow$\n",
    "**Figure 5:** *An example of an improper way of breaking off pins. Notice that the metal header pin has fallen off from the black encasing.*\n",
    "___"
   ]
  },
  {
   "cell_type": "markdown",
   "metadata": {},
   "source": [
    "In this section, I will be showing how to reliably get any number of pins you want. To do this however, we need to sacrifice one pin every time. For example, if we wanted to get a 1 x 4 header pin, then we would need to sacrfice the 5th pin. In the subsequent cells, I'll be demonstrating how to reliably get a fixed number of header pins using 1 x 4 header pin as an example. \n",
    "\n",
    "#### Making a 1x4 header pin\n",
    "\n",
    "1. As a first step, you need to remove the $(n+1)^{th}$ pin from the parent bulk of pins. You can see from the yellow arrow in **Figure 6** that the 5th pin has been removed since our goal is to get a 1 x 4 pin. "
   ]
  },
  {
   "cell_type": "markdown",
   "metadata": {},
   "source": [
    "<div style=\"float: left; margin-right: 50px; margin-top: 5px\">\n",
    "    <img src=\"imgs/figure_6.png\" style=\"float:left; margin-left: 5px; border:solid 2px\" width=\"300\"/>  \n",
    "</div>\n",
    "\n",
    "$\\Longrightarrow$\n",
    "**Figure 6:** *Female header pins after removing the (n+1)th pin. This location will later serve as the spot to make etched guidelines.*\n",
    "___\n"
   ]
  },
  {
   "cell_type": "markdown",
   "metadata": {},
   "source": [
    "2. Next, you want to make **“cutting guidelines”** into the 5th encasing. The encasings are made of plastic so it’s pretty easy to do. You can see the etched guidelines in the red circle in **Figure 8**. Make these guidelines on both sides of the encasing. After making the guidelines, you can just snap them off. The header will easily snap off along the guidelines you have created. "
   ]
  },
  {
   "cell_type": "markdown",
   "metadata": {},
   "source": [
    "<div style=\"float: left; margin-right: 50px; margin-top: 5px\">\n",
    "    <img src=\"imgs/figure_7.png\" style=\"float:left; margin-left: 5px; border:solid 2px\" width=\"300\"/>  \n",
    "</div>\n",
    "\n",
    "$\\Longrightarrow$\n",
    "**Figure 7:** *Making the cutting guidelines with a wire cutter*\n",
    "___\n"
   ]
  },
  {
   "cell_type": "markdown",
   "metadata": {},
   "source": [
    "<div style=\"float: left; margin-right: 50px; margin-top: 5px\">\n",
    "    <img src=\"imgs/figure_8.png\" style=\"float:left; margin-left: 5px; border:solid 2px\" width=\"300\"/>  \n",
    "</div>\n",
    "\n",
    "$\\Longrightarrow$\n",
    "**Figure 8:** *It might be a little hard to see, but you can fainlty notice the etched guidelines at the empty pin location (red circle) Once you have the guidelines, gently snap them off along the guidelines to get the finished product*\n",
    "___\n"
   ]
  },
  {
   "cell_type": "markdown",
   "metadata": {},
   "source": [
    "<div style=\"float: left; margin-right: 50px; margin-top: 5px\">\n",
    "    <img src=\"imgs/figure_9.png\" style=\"float:left; margin-left: 5px; border:solid 2px\" width=\"300\"/>  \n",
    "</div>\n",
    "\n",
    "$\\Longrightarrow$\n",
    "**Figure 9:** *We have successfully made a 1x4 female header pin! Compare and contrast this to **Figure 5** where we failed to properly break off the pin size of our interest.*\n",
    "___\n"
   ]
  },
  {
   "cell_type": "markdown",
   "metadata": {},
   "source": [
    "3. As a final touch, you can sand down these headers using a belt grinder (or with normal sandpaper) to give them a cleaner, smoother finish. The smooth finish will not only give the finished product a more professional look but also allow other components to fit better on the board. "
   ]
  },
  {
   "cell_type": "markdown",
   "metadata": {},
   "source": [
    "<div style=\"float: left; margin-right: 50px; margin-top: 5px\">\n",
    "    <img src=\"imgs/figure_10.png\" style=\"float:left; margin-left: 5px; border:solid 2px\" width=\"330\"/>  \n",
    "</div>\n",
    "\n",
    "$\\Longrightarrow$\n",
    "**Figure 10:** *Before **(red rectangle)** and after **(green rectangle)** sanding down the headers. Notice the smoother finish in the 'after' products*\n",
    "___\n"
   ]
  },
  {
   "cell_type": "markdown",
   "metadata": {},
   "source": [
    "### 3. Soldering Components to PCB\n",
    "\n",
    "When soldering anything onto a PCB, you want the components to be flush with the board. Simply put, you don’t want your components to look like the X-marked headers in **Figure 1** below. This is surprisingly pretty tricky to do because headers tend to move around a lot when soldering. As you go through the pins in a serial fashion, you’ll quickly realize one small misalignment will lead to the misalignment of the whole component (like in **Figure 1** below) because solder joints cool down and harden very quickly. In this section, I’ll show you my tips on how to solder the components flush with the board."
   ]
  },
  {
   "cell_type": "markdown",
   "metadata": {},
   "source": [
    "<div style=\"float: left; margin-right: 50px; margin-top: 5px\">\n",
    "    <img src=\"imgs/Image_1.png\" style=\"float:left; margin-left: 5px; border:solid 2px\" width=\"330\"/>  \n",
    "</div>\n",
    "\n",
    "$\\Longrightarrow$\n",
    "*Examples of good soldered (first and third) and bad soldered headers (second and fourth)*\n",
    "\n",
    "***Note: Don't confuse this picture with the multimeter picture of Figure 1 above.***\n",
    "___\n"
   ]
  },
  {
   "cell_type": "markdown",
   "metadata": {},
   "source": [
    "#### Soldering Components Flush with the board\n",
    "\n",
    "The basic idea behind this trick is to temporarily affix the components / headers flush with the board with some tape, and soldering key anchor points to the board. Once you have the anchor points, you can take the tape off and solder the remaining leads to the board. I’ll use the stacking pins as an example to demonstrate this method. \n",
    "\n",
    "1. Use tape to fixate the components / headers to the shield so that it doesn’t fall off even when the board is upside down"
   ]
  },
  {
   "cell_type": "markdown",
   "metadata": {},
   "source": [
    "<div style=\"float: left; margin-right: 50px; margin-top: 5px\">\n",
    "    <img src=\"imgs/figure_11.png\" style=\"float:left; margin-left: 5px; border:solid 2px\" width=\"330\"/>  \n",
    "</div>\n",
    "\n",
    "$\\Longrightarrow$\n",
    "**Figure 11:** *Use tape to affix the stacking pins to the shield. (Top-down view)*\n"
   ]
  },
  {
   "cell_type": "markdown",
   "metadata": {},
   "source": [
    "<div style=\"float: left; margin-right: 50px; margin-top: 5px\">\n",
    "    <img src=\"imgs/figure_12.png\" style=\"float:left; margin-left: 5px; border:solid 2px\" width=\"330\"/>  \n",
    "</div>\n",
    "\n",
    "$\\Longrightarrow$\n",
    "**Figure 12:** *Side view of the shield. Note that the stacking pins are not yet flush with the shield (red box). Currently, the stacking pins are a bit floating over the board.* \n",
    "\n"
   ]
  },
  {
   "cell_type": "markdown",
   "metadata": {},
   "source": [
    "2. With the tape attached, solder just the two ends of the stacking pins so that you can take the tape off. These will be your anchor points."
   ]
  },
  {
   "cell_type": "markdown",
   "metadata": {},
   "source": [
    "<div style=\"float: left; margin-right: 50px; margin-top: 5px\">\n",
    "    <img src=\"imgs/figure_13.png\" style=\"float:left; margin-left: 5px; border:solid 2px\" width=\"330\"/>  \n",
    "</div>\n",
    "\n",
    "$\\Longrightarrow$\n",
    "**Figure 13:** *Stacking pins after the anchor points (white circles) have been soldered on. Notice the silver solder joints within the white circles* \n",
    "\n"
   ]
  },
  {
   "cell_type": "markdown",
   "metadata": {},
   "source": [
    "3. Note that step 2 will not anchor the stacking pins perfectly flush with the shield (red box in **Figure 14**). To anchor the stacking pins flush with the shield, heat up your anchor solder joints and push in / wiggle the stacking pins against the shield until you feel that the stacking pins are flush. "
   ]
  },
  {
   "cell_type": "markdown",
   "metadata": {},
   "source": [
    "<div style=\"float: left; margin-right: 50px; margin-top: 5px\">\n",
    "    <img src=\"imgs/figure_14.png\" style=\"float:left; margin-left: 5px; border:solid 2px\" width=\"330\"/>  \n",
    "</div>\n",
    "\n",
    "$\\Longrightarrow$\n",
    "**Figure 14:** *Note that the stacking pins are not yet flush with the shield (red box).* \n",
    "\n"
   ]
  },
  {
   "cell_type": "markdown",
   "metadata": {},
   "source": [
    "4. After adjusting the stacking pins and your anchor points, it’s time to solder in the remaining holes. If you feel that the stacking pins are getting misaligned as you solder, repeat step 3 so that the stacking pins are actually flush with board. "
   ]
  },
  {
   "cell_type": "markdown",
   "metadata": {},
   "source": [
    "<div style=\"float: left; margin-right: 50px; margin-top: 5px\">\n",
    "    <img src=\"imgs/figure_15.png\" style=\"float:left; margin-left: 5px; border:solid 2px\" width=\"330\"/>  \n",
    "</div>\n",
    "\n",
    "$\\Longrightarrow$\n",
    "**Figure 15:** *Bottom view of a finished solder work. Note all the solder connections (red box).* \n",
    "\n"
   ]
  },
  {
   "cell_type": "markdown",
   "metadata": {},
   "source": [
    "<div style=\"float: left; margin-right: 50px; margin-top: 5px\">\n",
    "    <img src=\"imgs/figure_16.png\" style=\"float:left; margin-left: 5px; border:solid 2px\" width=\"330\"/>  \n",
    "</div>\n",
    "\n",
    "$\\Longrightarrow$\n",
    "**Figure 16:** *Side view of a finished solder work. Notice that the stacking pins are flush with the shield. Compare this image with **Figure 12**.* \n",
    "\n"
   ]
  },
  {
   "cell_type": "markdown",
   "metadata": {},
   "source": [
    "###### END OF CHAPTER"
   ]
  },
  {
   "cell_type": "markdown",
   "metadata": {},
   "source": [
    "[Previous Chapter: 0.Background and Introduction](https://nbviewer.ipython.org/github/jhl0204/DNAMIC-Hardware-Documentations/blob/master/Chapter_0.Background_and_Introduction/0_Background_and_Introduction_vF.ipynb)   \n",
    "\n",
    "\n",
    "\n",
    "[Next Chapter: 2.Getting Started - Essential Tips and Tricks](https://nbviewer.ipython.org/github/jhl0204/DNAMIC-Hardware-Documentations/blob/master/Chapter_1.Getting_Started-Essential_Tips_and_Tricks/1_Essential_Tips_and%20Tricks_vF.ipynb)"
   ]
  }
 ],
 "metadata": {
  "kernelspec": {
   "display_name": "Python 3",
   "language": "python",
   "name": "python3"
  },
  "language_info": {
   "codemirror_mode": {
    "name": "ipython",
    "version": 3
   },
   "file_extension": ".py",
   "mimetype": "text/x-python",
   "name": "python",
   "nbconvert_exporter": "python",
   "pygments_lexer": "ipython3",
   "version": "3.6.8"
  }
 },
 "nbformat": 4,
 "nbformat_minor": 2
}
