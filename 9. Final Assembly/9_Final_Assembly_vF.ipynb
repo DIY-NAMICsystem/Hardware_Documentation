{
 "cells": [
  {
   "attachments": {},
   "cell_type": "markdown",
   "metadata": {},
   "source": [
    "# Final Assembly\n",
    "\n",
    "#### <mark>What you will learn</mark>: \n",
    "\n",
    "How to build and finalize the box with the finished components.\n",
    "___"
   ]
  },
  {
   "cell_type": "markdown",
   "metadata": {},
   "source": [
    "### Introduction\n",
    "\n",
    "Now that you have cut the modified cage, made the OM1 shield, and soldered components to the wires, it is time to bring all of them together! As the final section, this chapter will walk you through on how to finalize the DNAMIC box and put it to real use! \n",
    "\n"
   ]
  },
  {
   "cell_type": "markdown",
   "metadata": {},
   "source": [
    "### Materials"
   ]
  },
  {
   "cell_type": "markdown",
   "metadata": {},
   "source": [
    "<div style=\"float: center; margin-bottom:20px\">\n",
    "    <img title=\"figure_1\" style=\"float: center; margin-right:220px\" src=\"imgs/Figure_1.png\" align=center width=900/>\n",
    "</div>\n",
    "\n",
    "\n",
    "\n",
    "____"
   ]
  },
  {
   "attachments": {},
   "cell_type": "markdown",
   "metadata": {},
   "source": [
    "#### Components:\n",
    "\n",
    "\n",
    "Components | Arduino | Others\n",
    "------|:-------:| -----\n",
    "LEDs (attached to noseport) | Arduino | Cage + Plexiglass\n",
    "IR photo interrupters | OM1 Shield| Manifold + Syringe  \n",
    "Solenoids + Tubing | Type A/B USB Cable | Screwdriver\n",
    " | Power Adapter | Screws (Phillips 4-40 x 5/16\") "
   ]
  },
  {
   "attachments": {},
   "cell_type": "markdown",
   "metadata": {},
   "source": [
    "### 1) Assemble customized nose ports to Plexiglass"
   ]
  },
  {
   "attachments": {},
   "cell_type": "markdown",
   "metadata": {},
   "source": [
    "<div style=\"float: left; margin-right: 50px;\">\n",
    "    <img title=\"figure_2\" style=\"float: left; margin-left: 5px; border:solid 2px\" src=\"imgs/Figure_2.png\" align=center width=300/>\n",
    "</div>\n",
    "\n",
    "$\\Longrightarrow$\n",
    "**Figure 2:** *Materials Needed for noseport - plexiglass assembly*\n",
    "\n",
    "___"
   ]
  },
  {
   "attachments": {},
   "cell_type": "markdown",
   "metadata": {},
   "source": [
    "Once you have nose ports with the correct wiring, screw in the nose ports to the plexiglass. The finished product should look something like this: "
   ]
  },
  {
   "attachments": {},
   "cell_type": "markdown",
   "metadata": {},
   "source": [
    "<div style=\"float: left; margin-right: 50px;\">\n",
    "    <img title=\"figure_3\" style=\"float: left; margin-left: 5px; border:solid 2px\" src=\"imgs/Figure_3.png\" align=center width=300/>\n",
    "</div>\n",
    "\n",
    "$\\Longrightarrow$\n",
    "**Figure 3:** *Front view of plexiglass (mice will face this side)*\n",
    "\n",
    "___"
   ]
  },
  {
   "attachments": {},
   "cell_type": "markdown",
   "metadata": {},
   "source": [
    "<div style=\"float: left; margin-right: 50px;\">\n",
    "    <img title=\"figure_4\" style=\"float: left; margin-left: 5px; border:solid 2px\" src=\"imgs/Figure_4.png\" align=center width=300/>\n",
    "</div>\n",
    "\n",
    "$\\Longrightarrow$\n",
    "**Figure 4:** *Back view of plexiglass (we will face this side)*\n",
    "\n",
    "___"
   ]
  },
  {
   "attachments": {},
   "cell_type": "markdown",
   "metadata": {},
   "source": [
    "Remember that the rodents will be facing the flush side of the plexiglass. The wires will be on the back side, since we don’t want mice interacting and possibly chewing up all the wires."
   ]
  },
  {
   "attachments": {},
   "cell_type": "markdown",
   "metadata": {},
   "source": [
    "### 2) Slide in the IRs into the nose port"
   ]
  },
  {
   "attachments": {},
   "cell_type": "markdown",
   "metadata": {},
   "source": [
    "<div style=\"float: left; margin-right: 50px;\">\n",
    "    <img title=\"figure_5\" style=\"float: left; margin-left: 5px; border:solid 2px\" src=\"imgs/Figure_5.png\" align=center width=300/>\n",
    "</div>\n",
    "\n",
    "$\\Longrightarrow$\n",
    "**Figure 5:** *Make sure that the IR LEDs go into the right (blue circle) and the phototransistor goes into the left (red circle)*\n",
    "\n",
    "\n",
    "___"
   ]
  },
  {
   "attachments": {},
   "cell_type": "markdown",
   "metadata": {},
   "source": [
    "Both parts of the IR (LED and phototransistor) will fit snugly into the nose port. However, make sure that the IR LED goes into the right (blue circle – 2 wires) and that the phototransistor goes into the left (red circle – 3 wires). This will help with wiring later when we connect them to the shield."
   ]
  },
  {
   "attachments": {},
   "cell_type": "markdown",
   "metadata": {},
   "source": [
    "### 3)\tAssemble the solenoids with the manifold and the syringe"
   ]
  },
  {
   "cell_type": "markdown",
   "metadata": {},
   "source": [
    "<div style=\"float: left; margin-right: 50px;\">\n",
    "    <img title=\"figure_6\" style=\"float: left; margin-left: 5px; border:solid 2px\" src=\"imgs/Figure_6.png\" align=center width=300/>\n",
    "</div>\n",
    "\n",
    "$\\Longrightarrow$\n",
    "**Figure 6:** *Picture of solenoids, manifold, and syringe after final assembly*\n",
    "\n",
    "\n",
    "___"
   ]
  },
  {
   "attachments": {},
   "cell_type": "markdown",
   "metadata": {},
   "source": [
    "The solenoid valves should have been assembled already with appropriate tubings from [Chapter x: Solenoid Valves]() LINK LINK LINK. In this step, just attach the manifold and the syringe using the tubing. (Part #: TET-125B - See [Bill of Materials](https://github.com/jhl0204/AIM-Hardware-Documentations/wiki/Bill-of-Materials))\n",
    "\n",
    "Also note that the solenoids valves don’t have the wires soldered on. This is because we will just use the original female – male wires since the solenoid valve leads are a bit thicker and the female encasings don’t slide off as easily. \n"
   ]
  },
  {
   "cell_type": "markdown",
   "metadata": {},
   "source": [
    "### 4) Screw in the manifold encasing"
   ]
  },
  {
   "attachments": {},
   "cell_type": "markdown",
   "metadata": {},
   "source": [
    "<div style=\"float: left; margin-right: 50px;\">\n",
    "    <img title=\"figure_7\" style=\"float: left; margin-left: 5px; border:solid 2px\" src=\"imgs/Figure_7_1.png\" align=center width=300/>\n",
    "</div>\n",
    "\n",
    "$\\Longrightarrow$\n",
    "**Figure 7:** *Screwing in the manifold encasing (white rectangular box)*\n",
    "\n",
    "___"
   ]
  },
  {
   "attachments": {},
   "cell_type": "markdown",
   "metadata": {},
   "source": [
    "<div style=\"float: left; margin-right: 50px;\">\n",
    "    <img title=\"figure_8\" style=\"float: left; margin-left: 5px; border:solid 2px\" src=\"imgs/Figure_8.png\" align=center width=300/>\n",
    "</div>\n",
    "\n",
    "$\\Longrightarrow$\n",
    "**Figure 8:** *After set-up. Notice the manifold on top of the manifold encasing*\n",
    "\n",
    "___"
   ]
  },
  {
   "attachments": {},
   "cell_type": "markdown",
   "metadata": {},
   "source": [
    "Screw in the manifold encasing into the plexiglass. The white blob in **Figure 9** is some clay that I used to hold down the IRs. Although I’ve designed the nose ports so that the IRs fit snugly without slipping out, there are some manufacturing errors in the process so the snugness varies from port to port. That’s why I’ve used clay to provide additional support for the IR components."
   ]
  },
  {
   "attachments": {},
   "cell_type": "markdown",
   "metadata": {},
   "source": [
    "<div style=\"float: left; margin-right: 50px;\">\n",
    "    <img title=\"figure_9\" style=\"float: left; margin-left: 5px; border:solid 2px\" src=\"imgs/Figure_9.png\" align=center width=300/>\n",
    "</div>\n",
    "\n",
    "$\\Longrightarrow$\n",
    "**Figure 9:** *Note that the solenoid valves are fitted with normal female wires (red circle). Also note the white clay used to weigh down the IR components.*\n",
    "\n",
    "___"
   ]
  },
  {
   "cell_type": "markdown",
   "metadata": {},
   "source": [
    "### 5) Wiring to the OM1 Shield\n"
   ]
  },
  {
   "cell_type": "markdown",
   "metadata": {},
   "source": [
    "Once you have attached all components onto the plexiglass, it is time to wire them to the shield. For the LEDs, make sure to connect GND to the GND rails on the shield. Likewise for the IRs - make sure to wire the component leads correctly to the shield. Incorrect wiring is one of the major reasons for DNAMIC box malfunction. For the solenoids, the polarity does not matter but it is easier if you are consistent with the wiring (ex: GND pins to only one side). **Figure 10** shows you where the components should go on the shield. It's okay if you decide to change the location of the components but keep in mind that you'll have to solder in additional female headers onto the shield and change the pin numbers on the Arduino IDE. For my current setup, I use **pins 4, 5, 6 for solenoids** / **pins 8, 9, 10 for LEDs** and **pins 11, 12, 13 for IRs.** \n"
   ]
  },
  {
   "cell_type": "markdown",
   "metadata": {},
   "source": [
    "<div style=\"float: center; margin-bottom:20px\">\n",
    "    <img title=\"figure_1\" style=\"float: center; margin-right:220px\" src=\"imgs/Wiring_3.png\" align=center width=600/>\n",
    "</div>\n",
    "\n",
    "\n",
    "\n",
    "$\\Longrightarrow$\n",
    "**Figure 10:** *Schematic showing where the components go on the shield* \n",
    "____"
   ]
  },
  {
   "cell_type": "markdown",
   "metadata": {},
   "source": [
    "### 6) Finished!"
   ]
  },
  {
   "attachments": {},
   "cell_type": "markdown",
   "metadata": {},
   "source": [
    "<div style=\"float: left; margin-right: 50px;\">\n",
    "    <img title=\"figure_10\" style=\"float: left; margin-left: 5px; border:solid 2px\" src=\"imgs/Figure_10.png\" align=center width=400/>\n",
    "</div>\n",
    "\n",
    "$\\Longrightarrow$\n",
    "**Figure 11:** *Front View of the completed DNAMIC box*\n",
    "\n",
    "___"
   ]
  },
  {
   "attachments": {},
   "cell_type": "markdown",
   "metadata": {},
   "source": [
    "<div style=\"float: left; margin-right: 50px;\">\n",
    "    <img title=\"figure_11\" style=\"float: left; margin-left: 5px; border:solid 2px\" src=\"imgs/Figure_11.png\" align=center width=400/>\n",
    "</div>\n",
    "\n",
    "$\\Longrightarrow$\n",
    "**Figure 12:** *Top View of the completed DNAMIC box*\n",
    "\n",
    "___"
   ]
  },
  {
   "attachments": {},
   "cell_type": "markdown",
   "metadata": {},
   "source": [
    "<div style=\"float: left; margin-right: 50px;\">\n",
    "    <img title=\"figure_12\" style=\"float: left; margin-left: 5px; border:solid 2px\" src=\"imgs/Figure_12.png\" align=center width=400/>\n",
    "</div>\n",
    "\n",
    "$\\Longrightarrow$\n",
    "**Figure 13:** *Side View of the completed DNAMIC box*\n",
    "\n",
    "___"
   ]
  },
  {
   "cell_type": "markdown",
   "metadata": {},
   "source": [
    "###### END OF CHAPTER"
   ]
  },
  {
   "cell_type": "markdown",
   "metadata": {},
   "source": [
    "[Previous Chapter - 3.xxxxx]()   \n"
   ]
  }
 ],
 "metadata": {
  "kernelspec": {
   "display_name": "Python 3",
   "language": "python",
   "name": "python3"
  },
  "language_info": {
   "codemirror_mode": {
    "name": "ipython",
    "version": 3
   },
   "file_extension": ".py",
   "mimetype": "text/x-python",
   "name": "python",
   "nbconvert_exporter": "python",
   "pygments_lexer": "ipython3",
   "version": "3.6.8"
  }
 },
 "nbformat": 4,
 "nbformat_minor": 2
}
